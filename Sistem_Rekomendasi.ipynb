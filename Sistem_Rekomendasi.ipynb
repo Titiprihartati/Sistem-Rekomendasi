{
  "cells": [
    {
      "cell_type": "markdown",
      "metadata": {
        "id": "ewyg0uVlF9YZ"
      },
      "source": [
        "# **Pembangunan Sistem Rekomendasi untuk Memprediksi Preferensi Pembelian Pelanggan menggunakan Colaborative Filtering pada Dataset Walmart Customer Purchase Behavior**\n",
        "\n",
        "## **Objective:**   \n",
        "Tujuan dari kode ini adalah untuk membangun sistem rekomendasi pembelian pelanggan Walmart menggunakan pendekatan Collaborative Filtering, khususnya User-Based Collaborative Filtering. Sistem ini mengandalkan profil pelanggan (seperti usia dan negara), metode pembayaran, preferensi historis, dan kategori produk yang dibeli untuk mencocokkan pelanggan dengan pelanggan lain yang memiliki pola belanja serupa. Dengan pendekatan ini, sistem dapat memberikan rekomendasi produk yang dipersonalisasi berdasarkan perilaku pelanggan lain yang mirip. Berbeda dengan Content-Based Filtering, pendekatan ini memanfaatkan hubungan antar pengguna dan cocok diterapkan pada data transaksional seperti dataset Walmart Customer Purchase Behavior, meskipun tanpa memerlukan rating eksplisit.\n",
        "\n",
        "## **Sumber Dataset**\n",
        "https://www.kaggle.com/datasets/logiccraftbyhimanshi/walmart-customer-purchase-behavior-dataset\n"
      ]
    },
    {
      "cell_type": "markdown",
      "metadata": {
        "id": "-sRyJnTvHDbg"
      },
      "source": [
        "# **Import Library**"
      ]
    },
    {
      "cell_type": "code",
      "execution_count": 1,
      "metadata": {
        "colab": {
          "base_uri": "https://localhost:8080/"
        },
        "id": "jyI5ERRdF8ZH",
        "outputId": "faf098bd-39c8-49a3-f68b-5e66fb621f5e"
      },
      "outputs": [
        {
          "output_type": "stream",
          "name": "stdout",
          "text": [
            "Requirement already satisfied: pandas in /usr/local/lib/python3.11/dist-packages (2.2.2)\n",
            "Requirement already satisfied: numpy in /usr/local/lib/python3.11/dist-packages (2.0.2)\n",
            "Requirement already satisfied: scikit-learn in /usr/local/lib/python3.11/dist-packages (1.6.1)\n",
            "Requirement already satisfied: matplotlib in /usr/local/lib/python3.11/dist-packages (3.10.0)\n",
            "Requirement already satisfied: seaborn in /usr/local/lib/python3.11/dist-packages (0.13.2)\n",
            "Requirement already satisfied: python-dateutil>=2.8.2 in /usr/local/lib/python3.11/dist-packages (from pandas) (2.9.0.post0)\n",
            "Requirement already satisfied: pytz>=2020.1 in /usr/local/lib/python3.11/dist-packages (from pandas) (2025.2)\n",
            "Requirement already satisfied: tzdata>=2022.7 in /usr/local/lib/python3.11/dist-packages (from pandas) (2025.2)\n",
            "Requirement already satisfied: scipy>=1.6.0 in /usr/local/lib/python3.11/dist-packages (from scikit-learn) (1.15.3)\n",
            "Requirement already satisfied: joblib>=1.2.0 in /usr/local/lib/python3.11/dist-packages (from scikit-learn) (1.5.0)\n",
            "Requirement already satisfied: threadpoolctl>=3.1.0 in /usr/local/lib/python3.11/dist-packages (from scikit-learn) (3.6.0)\n",
            "Requirement already satisfied: contourpy>=1.0.1 in /usr/local/lib/python3.11/dist-packages (from matplotlib) (1.3.2)\n",
            "Requirement already satisfied: cycler>=0.10 in /usr/local/lib/python3.11/dist-packages (from matplotlib) (0.12.1)\n",
            "Requirement already satisfied: fonttools>=4.22.0 in /usr/local/lib/python3.11/dist-packages (from matplotlib) (4.57.0)\n",
            "Requirement already satisfied: kiwisolver>=1.3.1 in /usr/local/lib/python3.11/dist-packages (from matplotlib) (1.4.8)\n",
            "Requirement already satisfied: packaging>=20.0 in /usr/local/lib/python3.11/dist-packages (from matplotlib) (24.2)\n",
            "Requirement already satisfied: pillow>=8 in /usr/local/lib/python3.11/dist-packages (from matplotlib) (11.2.1)\n",
            "Requirement already satisfied: pyparsing>=2.3.1 in /usr/local/lib/python3.11/dist-packages (from matplotlib) (3.2.3)\n",
            "Requirement already satisfied: six>=1.5 in /usr/local/lib/python3.11/dist-packages (from python-dateutil>=2.8.2->pandas) (1.17.0)\n"
          ]
        }
      ],
      "source": [
        "!pip install pandas numpy scikit-learn matplotlib seaborn\n"
      ]
    },
    {
      "cell_type": "code",
      "execution_count": 2,
      "metadata": {
        "id": "gxFcqMEoHY8T"
      },
      "outputs": [],
      "source": [
        "import pandas as pd\n",
        "import numpy as np\n",
        "import matplotlib.pyplot as plt\n",
        "import seaborn as sns\n",
        "from sklearn.metrics.pairwise import cosine_similarity\n",
        "from sklearn.feature_extraction.text import TfidfVectorizer\n",
        "from sklearn.preprocessing import LabelEncoder\n",
        "from sklearn.model_selection import train_test_split\n",
        "from sklearn.preprocessing import StandardScaler\n",
        "from sklearn.neighbors import NearestNeighbors\n",
        "\n"
      ]
    },
    {
      "cell_type": "markdown",
      "metadata": {
        "id": "QlRijKPvHctf"
      },
      "source": [
        "# **Load data**"
      ]
    },
    {
      "cell_type": "code",
      "execution_count": 3,
      "metadata": {
        "colab": {
          "base_uri": "https://localhost:8080/",
          "height": 108
        },
        "id": "w-v1nUIaHkBY",
        "outputId": "b5d60775-f50e-4383-fca0-1291a9dade21"
      },
      "outputs": [
        {
          "output_type": "display_data",
          "data": {
            "text/plain": [
              "<IPython.core.display.HTML object>"
            ],
            "text/html": [
              "\n",
              "     <input type=\"file\" id=\"files-ceaad59e-bdbb-442e-b860-42445191217c\" name=\"files[]\" multiple disabled\n",
              "        style=\"border:none\" />\n",
              "     <output id=\"result-ceaad59e-bdbb-442e-b860-42445191217c\">\n",
              "      Upload widget is only available when the cell has been executed in the\n",
              "      current browser session. Please rerun this cell to enable.\n",
              "      </output>\n",
              "      <script>// Copyright 2017 Google LLC\n",
              "//\n",
              "// Licensed under the Apache License, Version 2.0 (the \"License\");\n",
              "// you may not use this file except in compliance with the License.\n",
              "// You may obtain a copy of the License at\n",
              "//\n",
              "//      http://www.apache.org/licenses/LICENSE-2.0\n",
              "//\n",
              "// Unless required by applicable law or agreed to in writing, software\n",
              "// distributed under the License is distributed on an \"AS IS\" BASIS,\n",
              "// WITHOUT WARRANTIES OR CONDITIONS OF ANY KIND, either express or implied.\n",
              "// See the License for the specific language governing permissions and\n",
              "// limitations under the License.\n",
              "\n",
              "/**\n",
              " * @fileoverview Helpers for google.colab Python module.\n",
              " */\n",
              "(function(scope) {\n",
              "function span(text, styleAttributes = {}) {\n",
              "  const element = document.createElement('span');\n",
              "  element.textContent = text;\n",
              "  for (const key of Object.keys(styleAttributes)) {\n",
              "    element.style[key] = styleAttributes[key];\n",
              "  }\n",
              "  return element;\n",
              "}\n",
              "\n",
              "// Max number of bytes which will be uploaded at a time.\n",
              "const MAX_PAYLOAD_SIZE = 100 * 1024;\n",
              "\n",
              "function _uploadFiles(inputId, outputId) {\n",
              "  const steps = uploadFilesStep(inputId, outputId);\n",
              "  const outputElement = document.getElementById(outputId);\n",
              "  // Cache steps on the outputElement to make it available for the next call\n",
              "  // to uploadFilesContinue from Python.\n",
              "  outputElement.steps = steps;\n",
              "\n",
              "  return _uploadFilesContinue(outputId);\n",
              "}\n",
              "\n",
              "// This is roughly an async generator (not supported in the browser yet),\n",
              "// where there are multiple asynchronous steps and the Python side is going\n",
              "// to poll for completion of each step.\n",
              "// This uses a Promise to block the python side on completion of each step,\n",
              "// then passes the result of the previous step as the input to the next step.\n",
              "function _uploadFilesContinue(outputId) {\n",
              "  const outputElement = document.getElementById(outputId);\n",
              "  const steps = outputElement.steps;\n",
              "\n",
              "  const next = steps.next(outputElement.lastPromiseValue);\n",
              "  return Promise.resolve(next.value.promise).then((value) => {\n",
              "    // Cache the last promise value to make it available to the next\n",
              "    // step of the generator.\n",
              "    outputElement.lastPromiseValue = value;\n",
              "    return next.value.response;\n",
              "  });\n",
              "}\n",
              "\n",
              "/**\n",
              " * Generator function which is called between each async step of the upload\n",
              " * process.\n",
              " * @param {string} inputId Element ID of the input file picker element.\n",
              " * @param {string} outputId Element ID of the output display.\n",
              " * @return {!Iterable<!Object>} Iterable of next steps.\n",
              " */\n",
              "function* uploadFilesStep(inputId, outputId) {\n",
              "  const inputElement = document.getElementById(inputId);\n",
              "  inputElement.disabled = false;\n",
              "\n",
              "  const outputElement = document.getElementById(outputId);\n",
              "  outputElement.innerHTML = '';\n",
              "\n",
              "  const pickedPromise = new Promise((resolve) => {\n",
              "    inputElement.addEventListener('change', (e) => {\n",
              "      resolve(e.target.files);\n",
              "    });\n",
              "  });\n",
              "\n",
              "  const cancel = document.createElement('button');\n",
              "  inputElement.parentElement.appendChild(cancel);\n",
              "  cancel.textContent = 'Cancel upload';\n",
              "  const cancelPromise = new Promise((resolve) => {\n",
              "    cancel.onclick = () => {\n",
              "      resolve(null);\n",
              "    };\n",
              "  });\n",
              "\n",
              "  // Wait for the user to pick the files.\n",
              "  const files = yield {\n",
              "    promise: Promise.race([pickedPromise, cancelPromise]),\n",
              "    response: {\n",
              "      action: 'starting',\n",
              "    }\n",
              "  };\n",
              "\n",
              "  cancel.remove();\n",
              "\n",
              "  // Disable the input element since further picks are not allowed.\n",
              "  inputElement.disabled = true;\n",
              "\n",
              "  if (!files) {\n",
              "    return {\n",
              "      response: {\n",
              "        action: 'complete',\n",
              "      }\n",
              "    };\n",
              "  }\n",
              "\n",
              "  for (const file of files) {\n",
              "    const li = document.createElement('li');\n",
              "    li.append(span(file.name, {fontWeight: 'bold'}));\n",
              "    li.append(span(\n",
              "        `(${file.type || 'n/a'}) - ${file.size} bytes, ` +\n",
              "        `last modified: ${\n",
              "            file.lastModifiedDate ? file.lastModifiedDate.toLocaleDateString() :\n",
              "                                    'n/a'} - `));\n",
              "    const percent = span('0% done');\n",
              "    li.appendChild(percent);\n",
              "\n",
              "    outputElement.appendChild(li);\n",
              "\n",
              "    const fileDataPromise = new Promise((resolve) => {\n",
              "      const reader = new FileReader();\n",
              "      reader.onload = (e) => {\n",
              "        resolve(e.target.result);\n",
              "      };\n",
              "      reader.readAsArrayBuffer(file);\n",
              "    });\n",
              "    // Wait for the data to be ready.\n",
              "    let fileData = yield {\n",
              "      promise: fileDataPromise,\n",
              "      response: {\n",
              "        action: 'continue',\n",
              "      }\n",
              "    };\n",
              "\n",
              "    // Use a chunked sending to avoid message size limits. See b/62115660.\n",
              "    let position = 0;\n",
              "    do {\n",
              "      const length = Math.min(fileData.byteLength - position, MAX_PAYLOAD_SIZE);\n",
              "      const chunk = new Uint8Array(fileData, position, length);\n",
              "      position += length;\n",
              "\n",
              "      const base64 = btoa(String.fromCharCode.apply(null, chunk));\n",
              "      yield {\n",
              "        response: {\n",
              "          action: 'append',\n",
              "          file: file.name,\n",
              "          data: base64,\n",
              "        },\n",
              "      };\n",
              "\n",
              "      let percentDone = fileData.byteLength === 0 ?\n",
              "          100 :\n",
              "          Math.round((position / fileData.byteLength) * 100);\n",
              "      percent.textContent = `${percentDone}% done`;\n",
              "\n",
              "    } while (position < fileData.byteLength);\n",
              "  }\n",
              "\n",
              "  // All done.\n",
              "  yield {\n",
              "    response: {\n",
              "      action: 'complete',\n",
              "    }\n",
              "  };\n",
              "}\n",
              "\n",
              "scope.google = scope.google || {};\n",
              "scope.google.colab = scope.google.colab || {};\n",
              "scope.google.colab._files = {\n",
              "  _uploadFiles,\n",
              "  _uploadFilesContinue,\n",
              "};\n",
              "})(self);\n",
              "</script> "
            ]
          },
          "metadata": {}
        },
        {
          "output_type": "stream",
          "name": "stdout",
          "text": [
            "Saving kaggle (17).json to kaggle (17).json\n"
          ]
        },
        {
          "output_type": "execute_result",
          "data": {
            "text/plain": [
              "{'kaggle (17).json': b'{\"username\":\"tiprihartati\",\"key\":\"015f66d58bade12bbea4dc49bd786dfe\"}'}"
            ]
          },
          "metadata": {},
          "execution_count": 3
        }
      ],
      "source": [
        "from google.colab import files\n",
        "files.upload()"
      ]
    },
    {
      "cell_type": "code",
      "execution_count": 4,
      "metadata": {
        "colab": {
          "base_uri": "https://localhost:8080/"
        },
        "id": "HJ-gkKc_H9Ws",
        "outputId": "1f958d48-568e-4b2e-b9e1-33ca491ad66d"
      },
      "outputs": [
        {
          "output_type": "stream",
          "name": "stdout",
          "text": [
            "Dataset URL: https://www.kaggle.com/datasets/smayanj/e-commerce-transactions-dataset\n",
            "License(s): CC0-1.0\n",
            "Downloading e-commerce-transactions-dataset.zip to /content\n",
            "  0% 0.00/749k [00:00<?, ?B/s]\n",
            "100% 749k/749k [00:00<00:00, 836MB/s]\n"
          ]
        }
      ],
      "source": [
        "!mv \"kaggle (17).json\" kaggle.json\n",
        "!mkdir -p ~/.kaggle\n",
        "!cp kaggle.json ~/.kaggle/\n",
        "!chmod 600 ~/.kaggle/kaggle.json\n",
        "\n",
        "!kaggle datasets download -d smayanj/e-commerce-transactions-dataset\n",
        "\n",
        "!unzip -qq e-commerce-transactions-dataset.zip"
      ]
    },
    {
      "cell_type": "code",
      "execution_count": 5,
      "metadata": {
        "colab": {
          "base_uri": "https://localhost:8080/",
          "height": 278
        },
        "id": "5S3a-XGJImN4",
        "outputId": "12903c1e-9f4c-4c64-8a4a-589e854c4962"
      },
      "outputs": [
        {
          "output_type": "execute_result",
          "data": {
            "text/plain": [
              "   Transaction_ID        User_Name  Age  Country Product_Category  \\\n",
              "0               1         Ava Hall   63   Mexico         Clothing   \n",
              "1               2      Sophia Hall   59    India           Beauty   \n",
              "2               3  Elijah Thompson   26   France            Books   \n",
              "3               4     Elijah White   43   Mexico           Sports   \n",
              "4               5       Ava Harris   48  Germany           Beauty   \n",
              "\n",
              "   Purchase_Amount Payment_Method Transaction_Date  \n",
              "0           780.69     Debit Card       2023-04-14  \n",
              "1           738.56         PayPal       2023-07-30  \n",
              "2           178.34    Credit Card       2023-09-17  \n",
              "3           401.09            UPI       2023-06-21  \n",
              "4           594.83    Net Banking       2024-10-29  "
            ],
            "text/html": [
              "\n",
              "  <div id=\"df-705caf79-f884-4855-a623-e1a6fa722624\" class=\"colab-df-container\">\n",
              "    <div>\n",
              "<style scoped>\n",
              "    .dataframe tbody tr th:only-of-type {\n",
              "        vertical-align: middle;\n",
              "    }\n",
              "\n",
              "    .dataframe tbody tr th {\n",
              "        vertical-align: top;\n",
              "    }\n",
              "\n",
              "    .dataframe thead th {\n",
              "        text-align: right;\n",
              "    }\n",
              "</style>\n",
              "<table border=\"1\" class=\"dataframe\">\n",
              "  <thead>\n",
              "    <tr style=\"text-align: right;\">\n",
              "      <th></th>\n",
              "      <th>Transaction_ID</th>\n",
              "      <th>User_Name</th>\n",
              "      <th>Age</th>\n",
              "      <th>Country</th>\n",
              "      <th>Product_Category</th>\n",
              "      <th>Purchase_Amount</th>\n",
              "      <th>Payment_Method</th>\n",
              "      <th>Transaction_Date</th>\n",
              "    </tr>\n",
              "  </thead>\n",
              "  <tbody>\n",
              "    <tr>\n",
              "      <th>0</th>\n",
              "      <td>1</td>\n",
              "      <td>Ava Hall</td>\n",
              "      <td>63</td>\n",
              "      <td>Mexico</td>\n",
              "      <td>Clothing</td>\n",
              "      <td>780.69</td>\n",
              "      <td>Debit Card</td>\n",
              "      <td>2023-04-14</td>\n",
              "    </tr>\n",
              "    <tr>\n",
              "      <th>1</th>\n",
              "      <td>2</td>\n",
              "      <td>Sophia Hall</td>\n",
              "      <td>59</td>\n",
              "      <td>India</td>\n",
              "      <td>Beauty</td>\n",
              "      <td>738.56</td>\n",
              "      <td>PayPal</td>\n",
              "      <td>2023-07-30</td>\n",
              "    </tr>\n",
              "    <tr>\n",
              "      <th>2</th>\n",
              "      <td>3</td>\n",
              "      <td>Elijah Thompson</td>\n",
              "      <td>26</td>\n",
              "      <td>France</td>\n",
              "      <td>Books</td>\n",
              "      <td>178.34</td>\n",
              "      <td>Credit Card</td>\n",
              "      <td>2023-09-17</td>\n",
              "    </tr>\n",
              "    <tr>\n",
              "      <th>3</th>\n",
              "      <td>4</td>\n",
              "      <td>Elijah White</td>\n",
              "      <td>43</td>\n",
              "      <td>Mexico</td>\n",
              "      <td>Sports</td>\n",
              "      <td>401.09</td>\n",
              "      <td>UPI</td>\n",
              "      <td>2023-06-21</td>\n",
              "    </tr>\n",
              "    <tr>\n",
              "      <th>4</th>\n",
              "      <td>5</td>\n",
              "      <td>Ava Harris</td>\n",
              "      <td>48</td>\n",
              "      <td>Germany</td>\n",
              "      <td>Beauty</td>\n",
              "      <td>594.83</td>\n",
              "      <td>Net Banking</td>\n",
              "      <td>2024-10-29</td>\n",
              "    </tr>\n",
              "  </tbody>\n",
              "</table>\n",
              "</div>\n",
              "    <div class=\"colab-df-buttons\">\n",
              "\n",
              "  <div class=\"colab-df-container\">\n",
              "    <button class=\"colab-df-convert\" onclick=\"convertToInteractive('df-705caf79-f884-4855-a623-e1a6fa722624')\"\n",
              "            title=\"Convert this dataframe to an interactive table.\"\n",
              "            style=\"display:none;\">\n",
              "\n",
              "  <svg xmlns=\"http://www.w3.org/2000/svg\" height=\"24px\" viewBox=\"0 -960 960 960\">\n",
              "    <path d=\"M120-120v-720h720v720H120Zm60-500h600v-160H180v160Zm220 220h160v-160H400v160Zm0 220h160v-160H400v160ZM180-400h160v-160H180v160Zm440 0h160v-160H620v160ZM180-180h160v-160H180v160Zm440 0h160v-160H620v160Z\"/>\n",
              "  </svg>\n",
              "    </button>\n",
              "\n",
              "  <style>\n",
              "    .colab-df-container {\n",
              "      display:flex;\n",
              "      gap: 12px;\n",
              "    }\n",
              "\n",
              "    .colab-df-convert {\n",
              "      background-color: #E8F0FE;\n",
              "      border: none;\n",
              "      border-radius: 50%;\n",
              "      cursor: pointer;\n",
              "      display: none;\n",
              "      fill: #1967D2;\n",
              "      height: 32px;\n",
              "      padding: 0 0 0 0;\n",
              "      width: 32px;\n",
              "    }\n",
              "\n",
              "    .colab-df-convert:hover {\n",
              "      background-color: #E2EBFA;\n",
              "      box-shadow: 0px 1px 2px rgba(60, 64, 67, 0.3), 0px 1px 3px 1px rgba(60, 64, 67, 0.15);\n",
              "      fill: #174EA6;\n",
              "    }\n",
              "\n",
              "    .colab-df-buttons div {\n",
              "      margin-bottom: 4px;\n",
              "    }\n",
              "\n",
              "    [theme=dark] .colab-df-convert {\n",
              "      background-color: #3B4455;\n",
              "      fill: #D2E3FC;\n",
              "    }\n",
              "\n",
              "    [theme=dark] .colab-df-convert:hover {\n",
              "      background-color: #434B5C;\n",
              "      box-shadow: 0px 1px 3px 1px rgba(0, 0, 0, 0.15);\n",
              "      filter: drop-shadow(0px 1px 2px rgba(0, 0, 0, 0.3));\n",
              "      fill: #FFFFFF;\n",
              "    }\n",
              "  </style>\n",
              "\n",
              "    <script>\n",
              "      const buttonEl =\n",
              "        document.querySelector('#df-705caf79-f884-4855-a623-e1a6fa722624 button.colab-df-convert');\n",
              "      buttonEl.style.display =\n",
              "        google.colab.kernel.accessAllowed ? 'block' : 'none';\n",
              "\n",
              "      async function convertToInteractive(key) {\n",
              "        const element = document.querySelector('#df-705caf79-f884-4855-a623-e1a6fa722624');\n",
              "        const dataTable =\n",
              "          await google.colab.kernel.invokeFunction('convertToInteractive',\n",
              "                                                    [key], {});\n",
              "        if (!dataTable) return;\n",
              "\n",
              "        const docLinkHtml = 'Like what you see? Visit the ' +\n",
              "          '<a target=\"_blank\" href=https://colab.research.google.com/notebooks/data_table.ipynb>data table notebook</a>'\n",
              "          + ' to learn more about interactive tables.';\n",
              "        element.innerHTML = '';\n",
              "        dataTable['output_type'] = 'display_data';\n",
              "        await google.colab.output.renderOutput(dataTable, element);\n",
              "        const docLink = document.createElement('div');\n",
              "        docLink.innerHTML = docLinkHtml;\n",
              "        element.appendChild(docLink);\n",
              "      }\n",
              "    </script>\n",
              "  </div>\n",
              "\n",
              "\n",
              "    <div id=\"df-43693b73-29ab-46f9-b824-217fdb56ccfe\">\n",
              "      <button class=\"colab-df-quickchart\" onclick=\"quickchart('df-43693b73-29ab-46f9-b824-217fdb56ccfe')\"\n",
              "                title=\"Suggest charts\"\n",
              "                style=\"display:none;\">\n",
              "\n",
              "<svg xmlns=\"http://www.w3.org/2000/svg\" height=\"24px\"viewBox=\"0 0 24 24\"\n",
              "     width=\"24px\">\n",
              "    <g>\n",
              "        <path d=\"M19 3H5c-1.1 0-2 .9-2 2v14c0 1.1.9 2 2 2h14c1.1 0 2-.9 2-2V5c0-1.1-.9-2-2-2zM9 17H7v-7h2v7zm4 0h-2V7h2v10zm4 0h-2v-4h2v4z\"/>\n",
              "    </g>\n",
              "</svg>\n",
              "      </button>\n",
              "\n",
              "<style>\n",
              "  .colab-df-quickchart {\n",
              "      --bg-color: #E8F0FE;\n",
              "      --fill-color: #1967D2;\n",
              "      --hover-bg-color: #E2EBFA;\n",
              "      --hover-fill-color: #174EA6;\n",
              "      --disabled-fill-color: #AAA;\n",
              "      --disabled-bg-color: #DDD;\n",
              "  }\n",
              "\n",
              "  [theme=dark] .colab-df-quickchart {\n",
              "      --bg-color: #3B4455;\n",
              "      --fill-color: #D2E3FC;\n",
              "      --hover-bg-color: #434B5C;\n",
              "      --hover-fill-color: #FFFFFF;\n",
              "      --disabled-bg-color: #3B4455;\n",
              "      --disabled-fill-color: #666;\n",
              "  }\n",
              "\n",
              "  .colab-df-quickchart {\n",
              "    background-color: var(--bg-color);\n",
              "    border: none;\n",
              "    border-radius: 50%;\n",
              "    cursor: pointer;\n",
              "    display: none;\n",
              "    fill: var(--fill-color);\n",
              "    height: 32px;\n",
              "    padding: 0;\n",
              "    width: 32px;\n",
              "  }\n",
              "\n",
              "  .colab-df-quickchart:hover {\n",
              "    background-color: var(--hover-bg-color);\n",
              "    box-shadow: 0 1px 2px rgba(60, 64, 67, 0.3), 0 1px 3px 1px rgba(60, 64, 67, 0.15);\n",
              "    fill: var(--button-hover-fill-color);\n",
              "  }\n",
              "\n",
              "  .colab-df-quickchart-complete:disabled,\n",
              "  .colab-df-quickchart-complete:disabled:hover {\n",
              "    background-color: var(--disabled-bg-color);\n",
              "    fill: var(--disabled-fill-color);\n",
              "    box-shadow: none;\n",
              "  }\n",
              "\n",
              "  .colab-df-spinner {\n",
              "    border: 2px solid var(--fill-color);\n",
              "    border-color: transparent;\n",
              "    border-bottom-color: var(--fill-color);\n",
              "    animation:\n",
              "      spin 1s steps(1) infinite;\n",
              "  }\n",
              "\n",
              "  @keyframes spin {\n",
              "    0% {\n",
              "      border-color: transparent;\n",
              "      border-bottom-color: var(--fill-color);\n",
              "      border-left-color: var(--fill-color);\n",
              "    }\n",
              "    20% {\n",
              "      border-color: transparent;\n",
              "      border-left-color: var(--fill-color);\n",
              "      border-top-color: var(--fill-color);\n",
              "    }\n",
              "    30% {\n",
              "      border-color: transparent;\n",
              "      border-left-color: var(--fill-color);\n",
              "      border-top-color: var(--fill-color);\n",
              "      border-right-color: var(--fill-color);\n",
              "    }\n",
              "    40% {\n",
              "      border-color: transparent;\n",
              "      border-right-color: var(--fill-color);\n",
              "      border-top-color: var(--fill-color);\n",
              "    }\n",
              "    60% {\n",
              "      border-color: transparent;\n",
              "      border-right-color: var(--fill-color);\n",
              "    }\n",
              "    80% {\n",
              "      border-color: transparent;\n",
              "      border-right-color: var(--fill-color);\n",
              "      border-bottom-color: var(--fill-color);\n",
              "    }\n",
              "    90% {\n",
              "      border-color: transparent;\n",
              "      border-bottom-color: var(--fill-color);\n",
              "    }\n",
              "  }\n",
              "</style>\n",
              "\n",
              "      <script>\n",
              "        async function quickchart(key) {\n",
              "          const quickchartButtonEl =\n",
              "            document.querySelector('#' + key + ' button');\n",
              "          quickchartButtonEl.disabled = true;  // To prevent multiple clicks.\n",
              "          quickchartButtonEl.classList.add('colab-df-spinner');\n",
              "          try {\n",
              "            const charts = await google.colab.kernel.invokeFunction(\n",
              "                'suggestCharts', [key], {});\n",
              "          } catch (error) {\n",
              "            console.error('Error during call to suggestCharts:', error);\n",
              "          }\n",
              "          quickchartButtonEl.classList.remove('colab-df-spinner');\n",
              "          quickchartButtonEl.classList.add('colab-df-quickchart-complete');\n",
              "        }\n",
              "        (() => {\n",
              "          let quickchartButtonEl =\n",
              "            document.querySelector('#df-43693b73-29ab-46f9-b824-217fdb56ccfe button');\n",
              "          quickchartButtonEl.style.display =\n",
              "            google.colab.kernel.accessAllowed ? 'block' : 'none';\n",
              "        })();\n",
              "      </script>\n",
              "    </div>\n",
              "\n",
              "    </div>\n",
              "  </div>\n"
            ],
            "application/vnd.google.colaboratory.intrinsic+json": {
              "type": "dataframe",
              "variable_name": "data",
              "summary": "{\n  \"name\": \"data\",\n  \"rows\": 50000,\n  \"fields\": [\n    {\n      \"column\": \"Transaction_ID\",\n      \"properties\": {\n        \"dtype\": \"number\",\n        \"std\": 14433,\n        \"min\": 1,\n        \"max\": 50000,\n        \"num_unique_values\": 50000,\n        \"samples\": [\n          33554,\n          9428,\n          200\n        ],\n        \"semantic_type\": \"\",\n        \"description\": \"\"\n      }\n    },\n    {\n      \"column\": \"User_Name\",\n      \"properties\": {\n        \"dtype\": \"category\",\n        \"num_unique_values\": 100,\n        \"samples\": [\n          \"Olivia Anderson\",\n          \"Oliver Thompson\",\n          \"Elijah Rodriguez\"\n        ],\n        \"semantic_type\": \"\",\n        \"description\": \"\"\n      }\n    },\n    {\n      \"column\": \"Age\",\n      \"properties\": {\n        \"dtype\": \"number\",\n        \"std\": 15,\n        \"min\": 18,\n        \"max\": 70,\n        \"num_unique_values\": 53,\n        \"samples\": [\n          39,\n          64,\n          66\n        ],\n        \"semantic_type\": \"\",\n        \"description\": \"\"\n      }\n    },\n    {\n      \"column\": \"Country\",\n      \"properties\": {\n        \"dtype\": \"category\",\n        \"num_unique_values\": 10,\n        \"samples\": [\n          \"USA\",\n          \"India\",\n          \"Japan\"\n        ],\n        \"semantic_type\": \"\",\n        \"description\": \"\"\n      }\n    },\n    {\n      \"column\": \"Product_Category\",\n      \"properties\": {\n        \"dtype\": \"category\",\n        \"num_unique_values\": 8,\n        \"samples\": [\n          \"Beauty\",\n          \"Home & Kitchen\",\n          \"Clothing\"\n        ],\n        \"semantic_type\": \"\",\n        \"description\": \"\"\n      }\n    },\n    {\n      \"column\": \"Purchase_Amount\",\n      \"properties\": {\n        \"dtype\": \"number\",\n        \"std\": 286.56355761466017,\n        \"min\": 5.04,\n        \"max\": 999.98,\n        \"num_unique_values\": 39258,\n        \"samples\": [\n          484.19,\n          837.12,\n          37.49\n        ],\n        \"semantic_type\": \"\",\n        \"description\": \"\"\n      }\n    },\n    {\n      \"column\": \"Payment_Method\",\n      \"properties\": {\n        \"dtype\": \"category\",\n        \"num_unique_values\": 6,\n        \"samples\": [\n          \"Debit Card\",\n          \"PayPal\",\n          \"Cash on Delivery\"\n        ],\n        \"semantic_type\": \"\",\n        \"description\": \"\"\n      }\n    },\n    {\n      \"column\": \"Transaction_Date\",\n      \"properties\": {\n        \"dtype\": \"object\",\n        \"num_unique_values\": 731,\n        \"samples\": [\n          \"2025-01-25\",\n          \"2024-10-01\",\n          \"2024-04-05\"\n        ],\n        \"semantic_type\": \"\",\n        \"description\": \"\"\n      }\n    }\n  ]\n}"
            }
          },
          "metadata": {},
          "execution_count": 5
        }
      ],
      "source": [
        "data = pd.read_csv('/content/e-commerce-transactions-dataset.zip')\n",
        "data.head()"
      ]
    },
    {
      "cell_type": "markdown",
      "metadata": {
        "id": "zlW47jvGKsgg"
      },
      "source": [
        "# **Exploratory Data Analysis (EDA)**\n",
        "\n",
        "Pada tahap ini, Anda akan melakukan **Exploratory Data Analysis (EDA)** untuk memahami karakteristik dataset. EDA bertujuan untuk:\n",
        "\n",
        "- memahami struktur data\n",
        "- menangani missing value dan duplikat\n",
        "- Visualisasi distribusi data\n",
        "- Analisis perilaku pembelian\n",
        "- segmentasi Pelanggan\n",
        "\n",
        "Tujuan dari EDA adalah untuk memperoleh wawasan awal yang mendalam mengenai data dan menentukan langkah selanjutnya dalam analisis atau pemodelan."
      ]
    },
    {
      "cell_type": "markdown",
      "metadata": {
        "id": "2JIasWY6LsqG"
      },
      "source": [
        "### Memahami struktur data\n",
        "mengetahui jumlah baris, kolom, tipe data dan ringkasan statistik pada data"
      ]
    },
    {
      "cell_type": "code",
      "execution_count": 6,
      "metadata": {
        "colab": {
          "base_uri": "https://localhost:8080/",
          "height": 565
        },
        "id": "1Dy438RjLIIs",
        "outputId": "85c8e510-003a-44bf-a35d-8790ce4985b5"
      },
      "outputs": [
        {
          "output_type": "execute_result",
          "data": {
            "text/plain": [
              "       Transaction_ID           User_Name  Age    Country Product_Category  \\\n",
              "0                   1            Ava Hall   63     Mexico         Clothing   \n",
              "1                   2         Sophia Hall   59      India           Beauty   \n",
              "2                   3     Elijah Thompson   26     France            Books   \n",
              "3                   4        Elijah White   43     Mexico           Sports   \n",
              "4                   5          Ava Harris   48    Germany           Beauty   \n",
              "...               ...                 ...  ...        ...              ...   \n",
              "49995           49996  Isabella Rodriguez   53      India      Electronics   \n",
              "49996           49997           Emma Hall   30     France   Home & Kitchen   \n",
              "49997           49998      Isabella Allen   50  Australia           Beauty   \n",
              "49998           49999        Olivia Clark   48  Australia          Grocery   \n",
              "49999           50000       Olivia Harris   70     Canada           Sports   \n",
              "\n",
              "       Purchase_Amount    Payment_Method Transaction_Date  \n",
              "0               780.69        Debit Card       2023-04-14  \n",
              "1               738.56            PayPal       2023-07-30  \n",
              "2               178.34       Credit Card       2023-09-17  \n",
              "3               401.09               UPI       2023-06-21  \n",
              "4               594.83       Net Banking       2024-10-29  \n",
              "...                ...               ...              ...  \n",
              "49995           140.09               UPI       2024-08-07  \n",
              "49996           815.31  Cash on Delivery       2025-02-07  \n",
              "49997           535.77               UPI       2023-08-11  \n",
              "49998           370.99  Cash on Delivery       2025-01-02  \n",
              "49999           577.66       Credit Card       2024-06-03  \n",
              "\n",
              "[50000 rows x 8 columns]"
            ],
            "text/html": [
              "\n",
              "  <div id=\"df-58e2ccbe-67cc-46ad-895a-55b8a0e01b3e\" class=\"colab-df-container\">\n",
              "    <div>\n",
              "<style scoped>\n",
              "    .dataframe tbody tr th:only-of-type {\n",
              "        vertical-align: middle;\n",
              "    }\n",
              "\n",
              "    .dataframe tbody tr th {\n",
              "        vertical-align: top;\n",
              "    }\n",
              "\n",
              "    .dataframe thead th {\n",
              "        text-align: right;\n",
              "    }\n",
              "</style>\n",
              "<table border=\"1\" class=\"dataframe\">\n",
              "  <thead>\n",
              "    <tr style=\"text-align: right;\">\n",
              "      <th></th>\n",
              "      <th>Transaction_ID</th>\n",
              "      <th>User_Name</th>\n",
              "      <th>Age</th>\n",
              "      <th>Country</th>\n",
              "      <th>Product_Category</th>\n",
              "      <th>Purchase_Amount</th>\n",
              "      <th>Payment_Method</th>\n",
              "      <th>Transaction_Date</th>\n",
              "    </tr>\n",
              "  </thead>\n",
              "  <tbody>\n",
              "    <tr>\n",
              "      <th>0</th>\n",
              "      <td>1</td>\n",
              "      <td>Ava Hall</td>\n",
              "      <td>63</td>\n",
              "      <td>Mexico</td>\n",
              "      <td>Clothing</td>\n",
              "      <td>780.69</td>\n",
              "      <td>Debit Card</td>\n",
              "      <td>2023-04-14</td>\n",
              "    </tr>\n",
              "    <tr>\n",
              "      <th>1</th>\n",
              "      <td>2</td>\n",
              "      <td>Sophia Hall</td>\n",
              "      <td>59</td>\n",
              "      <td>India</td>\n",
              "      <td>Beauty</td>\n",
              "      <td>738.56</td>\n",
              "      <td>PayPal</td>\n",
              "      <td>2023-07-30</td>\n",
              "    </tr>\n",
              "    <tr>\n",
              "      <th>2</th>\n",
              "      <td>3</td>\n",
              "      <td>Elijah Thompson</td>\n",
              "      <td>26</td>\n",
              "      <td>France</td>\n",
              "      <td>Books</td>\n",
              "      <td>178.34</td>\n",
              "      <td>Credit Card</td>\n",
              "      <td>2023-09-17</td>\n",
              "    </tr>\n",
              "    <tr>\n",
              "      <th>3</th>\n",
              "      <td>4</td>\n",
              "      <td>Elijah White</td>\n",
              "      <td>43</td>\n",
              "      <td>Mexico</td>\n",
              "      <td>Sports</td>\n",
              "      <td>401.09</td>\n",
              "      <td>UPI</td>\n",
              "      <td>2023-06-21</td>\n",
              "    </tr>\n",
              "    <tr>\n",
              "      <th>4</th>\n",
              "      <td>5</td>\n",
              "      <td>Ava Harris</td>\n",
              "      <td>48</td>\n",
              "      <td>Germany</td>\n",
              "      <td>Beauty</td>\n",
              "      <td>594.83</td>\n",
              "      <td>Net Banking</td>\n",
              "      <td>2024-10-29</td>\n",
              "    </tr>\n",
              "    <tr>\n",
              "      <th>...</th>\n",
              "      <td>...</td>\n",
              "      <td>...</td>\n",
              "      <td>...</td>\n",
              "      <td>...</td>\n",
              "      <td>...</td>\n",
              "      <td>...</td>\n",
              "      <td>...</td>\n",
              "      <td>...</td>\n",
              "    </tr>\n",
              "    <tr>\n",
              "      <th>49995</th>\n",
              "      <td>49996</td>\n",
              "      <td>Isabella Rodriguez</td>\n",
              "      <td>53</td>\n",
              "      <td>India</td>\n",
              "      <td>Electronics</td>\n",
              "      <td>140.09</td>\n",
              "      <td>UPI</td>\n",
              "      <td>2024-08-07</td>\n",
              "    </tr>\n",
              "    <tr>\n",
              "      <th>49996</th>\n",
              "      <td>49997</td>\n",
              "      <td>Emma Hall</td>\n",
              "      <td>30</td>\n",
              "      <td>France</td>\n",
              "      <td>Home &amp; Kitchen</td>\n",
              "      <td>815.31</td>\n",
              "      <td>Cash on Delivery</td>\n",
              "      <td>2025-02-07</td>\n",
              "    </tr>\n",
              "    <tr>\n",
              "      <th>49997</th>\n",
              "      <td>49998</td>\n",
              "      <td>Isabella Allen</td>\n",
              "      <td>50</td>\n",
              "      <td>Australia</td>\n",
              "      <td>Beauty</td>\n",
              "      <td>535.77</td>\n",
              "      <td>UPI</td>\n",
              "      <td>2023-08-11</td>\n",
              "    </tr>\n",
              "    <tr>\n",
              "      <th>49998</th>\n",
              "      <td>49999</td>\n",
              "      <td>Olivia Clark</td>\n",
              "      <td>48</td>\n",
              "      <td>Australia</td>\n",
              "      <td>Grocery</td>\n",
              "      <td>370.99</td>\n",
              "      <td>Cash on Delivery</td>\n",
              "      <td>2025-01-02</td>\n",
              "    </tr>\n",
              "    <tr>\n",
              "      <th>49999</th>\n",
              "      <td>50000</td>\n",
              "      <td>Olivia Harris</td>\n",
              "      <td>70</td>\n",
              "      <td>Canada</td>\n",
              "      <td>Sports</td>\n",
              "      <td>577.66</td>\n",
              "      <td>Credit Card</td>\n",
              "      <td>2024-06-03</td>\n",
              "    </tr>\n",
              "  </tbody>\n",
              "</table>\n",
              "<p>50000 rows × 8 columns</p>\n",
              "</div>\n",
              "    <div class=\"colab-df-buttons\">\n",
              "\n",
              "  <div class=\"colab-df-container\">\n",
              "    <button class=\"colab-df-convert\" onclick=\"convertToInteractive('df-58e2ccbe-67cc-46ad-895a-55b8a0e01b3e')\"\n",
              "            title=\"Convert this dataframe to an interactive table.\"\n",
              "            style=\"display:none;\">\n",
              "\n",
              "  <svg xmlns=\"http://www.w3.org/2000/svg\" height=\"24px\" viewBox=\"0 -960 960 960\">\n",
              "    <path d=\"M120-120v-720h720v720H120Zm60-500h600v-160H180v160Zm220 220h160v-160H400v160Zm0 220h160v-160H400v160ZM180-400h160v-160H180v160Zm440 0h160v-160H620v160ZM180-180h160v-160H180v160Zm440 0h160v-160H620v160Z\"/>\n",
              "  </svg>\n",
              "    </button>\n",
              "\n",
              "  <style>\n",
              "    .colab-df-container {\n",
              "      display:flex;\n",
              "      gap: 12px;\n",
              "    }\n",
              "\n",
              "    .colab-df-convert {\n",
              "      background-color: #E8F0FE;\n",
              "      border: none;\n",
              "      border-radius: 50%;\n",
              "      cursor: pointer;\n",
              "      display: none;\n",
              "      fill: #1967D2;\n",
              "      height: 32px;\n",
              "      padding: 0 0 0 0;\n",
              "      width: 32px;\n",
              "    }\n",
              "\n",
              "    .colab-df-convert:hover {\n",
              "      background-color: #E2EBFA;\n",
              "      box-shadow: 0px 1px 2px rgba(60, 64, 67, 0.3), 0px 1px 3px 1px rgba(60, 64, 67, 0.15);\n",
              "      fill: #174EA6;\n",
              "    }\n",
              "\n",
              "    .colab-df-buttons div {\n",
              "      margin-bottom: 4px;\n",
              "    }\n",
              "\n",
              "    [theme=dark] .colab-df-convert {\n",
              "      background-color: #3B4455;\n",
              "      fill: #D2E3FC;\n",
              "    }\n",
              "\n",
              "    [theme=dark] .colab-df-convert:hover {\n",
              "      background-color: #434B5C;\n",
              "      box-shadow: 0px 1px 3px 1px rgba(0, 0, 0, 0.15);\n",
              "      filter: drop-shadow(0px 1px 2px rgba(0, 0, 0, 0.3));\n",
              "      fill: #FFFFFF;\n",
              "    }\n",
              "  </style>\n",
              "\n",
              "    <script>\n",
              "      const buttonEl =\n",
              "        document.querySelector('#df-58e2ccbe-67cc-46ad-895a-55b8a0e01b3e button.colab-df-convert');\n",
              "      buttonEl.style.display =\n",
              "        google.colab.kernel.accessAllowed ? 'block' : 'none';\n",
              "\n",
              "      async function convertToInteractive(key) {\n",
              "        const element = document.querySelector('#df-58e2ccbe-67cc-46ad-895a-55b8a0e01b3e');\n",
              "        const dataTable =\n",
              "          await google.colab.kernel.invokeFunction('convertToInteractive',\n",
              "                                                    [key], {});\n",
              "        if (!dataTable) return;\n",
              "\n",
              "        const docLinkHtml = 'Like what you see? Visit the ' +\n",
              "          '<a target=\"_blank\" href=https://colab.research.google.com/notebooks/data_table.ipynb>data table notebook</a>'\n",
              "          + ' to learn more about interactive tables.';\n",
              "        element.innerHTML = '';\n",
              "        dataTable['output_type'] = 'display_data';\n",
              "        await google.colab.output.renderOutput(dataTable, element);\n",
              "        const docLink = document.createElement('div');\n",
              "        docLink.innerHTML = docLinkHtml;\n",
              "        element.appendChild(docLink);\n",
              "      }\n",
              "    </script>\n",
              "  </div>\n",
              "\n",
              "\n",
              "    <div id=\"df-95aa7ad8-fd96-4ea0-9afa-b0ff7965b729\">\n",
              "      <button class=\"colab-df-quickchart\" onclick=\"quickchart('df-95aa7ad8-fd96-4ea0-9afa-b0ff7965b729')\"\n",
              "                title=\"Suggest charts\"\n",
              "                style=\"display:none;\">\n",
              "\n",
              "<svg xmlns=\"http://www.w3.org/2000/svg\" height=\"24px\"viewBox=\"0 0 24 24\"\n",
              "     width=\"24px\">\n",
              "    <g>\n",
              "        <path d=\"M19 3H5c-1.1 0-2 .9-2 2v14c0 1.1.9 2 2 2h14c1.1 0 2-.9 2-2V5c0-1.1-.9-2-2-2zM9 17H7v-7h2v7zm4 0h-2V7h2v10zm4 0h-2v-4h2v4z\"/>\n",
              "    </g>\n",
              "</svg>\n",
              "      </button>\n",
              "\n",
              "<style>\n",
              "  .colab-df-quickchart {\n",
              "      --bg-color: #E8F0FE;\n",
              "      --fill-color: #1967D2;\n",
              "      --hover-bg-color: #E2EBFA;\n",
              "      --hover-fill-color: #174EA6;\n",
              "      --disabled-fill-color: #AAA;\n",
              "      --disabled-bg-color: #DDD;\n",
              "  }\n",
              "\n",
              "  [theme=dark] .colab-df-quickchart {\n",
              "      --bg-color: #3B4455;\n",
              "      --fill-color: #D2E3FC;\n",
              "      --hover-bg-color: #434B5C;\n",
              "      --hover-fill-color: #FFFFFF;\n",
              "      --disabled-bg-color: #3B4455;\n",
              "      --disabled-fill-color: #666;\n",
              "  }\n",
              "\n",
              "  .colab-df-quickchart {\n",
              "    background-color: var(--bg-color);\n",
              "    border: none;\n",
              "    border-radius: 50%;\n",
              "    cursor: pointer;\n",
              "    display: none;\n",
              "    fill: var(--fill-color);\n",
              "    height: 32px;\n",
              "    padding: 0;\n",
              "    width: 32px;\n",
              "  }\n",
              "\n",
              "  .colab-df-quickchart:hover {\n",
              "    background-color: var(--hover-bg-color);\n",
              "    box-shadow: 0 1px 2px rgba(60, 64, 67, 0.3), 0 1px 3px 1px rgba(60, 64, 67, 0.15);\n",
              "    fill: var(--button-hover-fill-color);\n",
              "  }\n",
              "\n",
              "  .colab-df-quickchart-complete:disabled,\n",
              "  .colab-df-quickchart-complete:disabled:hover {\n",
              "    background-color: var(--disabled-bg-color);\n",
              "    fill: var(--disabled-fill-color);\n",
              "    box-shadow: none;\n",
              "  }\n",
              "\n",
              "  .colab-df-spinner {\n",
              "    border: 2px solid var(--fill-color);\n",
              "    border-color: transparent;\n",
              "    border-bottom-color: var(--fill-color);\n",
              "    animation:\n",
              "      spin 1s steps(1) infinite;\n",
              "  }\n",
              "\n",
              "  @keyframes spin {\n",
              "    0% {\n",
              "      border-color: transparent;\n",
              "      border-bottom-color: var(--fill-color);\n",
              "      border-left-color: var(--fill-color);\n",
              "    }\n",
              "    20% {\n",
              "      border-color: transparent;\n",
              "      border-left-color: var(--fill-color);\n",
              "      border-top-color: var(--fill-color);\n",
              "    }\n",
              "    30% {\n",
              "      border-color: transparent;\n",
              "      border-left-color: var(--fill-color);\n",
              "      border-top-color: var(--fill-color);\n",
              "      border-right-color: var(--fill-color);\n",
              "    }\n",
              "    40% {\n",
              "      border-color: transparent;\n",
              "      border-right-color: var(--fill-color);\n",
              "      border-top-color: var(--fill-color);\n",
              "    }\n",
              "    60% {\n",
              "      border-color: transparent;\n",
              "      border-right-color: var(--fill-color);\n",
              "    }\n",
              "    80% {\n",
              "      border-color: transparent;\n",
              "      border-right-color: var(--fill-color);\n",
              "      border-bottom-color: var(--fill-color);\n",
              "    }\n",
              "    90% {\n",
              "      border-color: transparent;\n",
              "      border-bottom-color: var(--fill-color);\n",
              "    }\n",
              "  }\n",
              "</style>\n",
              "\n",
              "      <script>\n",
              "        async function quickchart(key) {\n",
              "          const quickchartButtonEl =\n",
              "            document.querySelector('#' + key + ' button');\n",
              "          quickchartButtonEl.disabled = true;  // To prevent multiple clicks.\n",
              "          quickchartButtonEl.classList.add('colab-df-spinner');\n",
              "          try {\n",
              "            const charts = await google.colab.kernel.invokeFunction(\n",
              "                'suggestCharts', [key], {});\n",
              "          } catch (error) {\n",
              "            console.error('Error during call to suggestCharts:', error);\n",
              "          }\n",
              "          quickchartButtonEl.classList.remove('colab-df-spinner');\n",
              "          quickchartButtonEl.classList.add('colab-df-quickchart-complete');\n",
              "        }\n",
              "        (() => {\n",
              "          let quickchartButtonEl =\n",
              "            document.querySelector('#df-95aa7ad8-fd96-4ea0-9afa-b0ff7965b729 button');\n",
              "          quickchartButtonEl.style.display =\n",
              "            google.colab.kernel.accessAllowed ? 'block' : 'none';\n",
              "        })();\n",
              "      </script>\n",
              "    </div>\n",
              "\n",
              "  <div id=\"id_5b5bb26d-9585-46c2-83b9-f166657f9ebc\">\n",
              "    <style>\n",
              "      .colab-df-generate {\n",
              "        background-color: #E8F0FE;\n",
              "        border: none;\n",
              "        border-radius: 50%;\n",
              "        cursor: pointer;\n",
              "        display: none;\n",
              "        fill: #1967D2;\n",
              "        height: 32px;\n",
              "        padding: 0 0 0 0;\n",
              "        width: 32px;\n",
              "      }\n",
              "\n",
              "      .colab-df-generate:hover {\n",
              "        background-color: #E2EBFA;\n",
              "        box-shadow: 0px 1px 2px rgba(60, 64, 67, 0.3), 0px 1px 3px 1px rgba(60, 64, 67, 0.15);\n",
              "        fill: #174EA6;\n",
              "      }\n",
              "\n",
              "      [theme=dark] .colab-df-generate {\n",
              "        background-color: #3B4455;\n",
              "        fill: #D2E3FC;\n",
              "      }\n",
              "\n",
              "      [theme=dark] .colab-df-generate:hover {\n",
              "        background-color: #434B5C;\n",
              "        box-shadow: 0px 1px 3px 1px rgba(0, 0, 0, 0.15);\n",
              "        filter: drop-shadow(0px 1px 2px rgba(0, 0, 0, 0.3));\n",
              "        fill: #FFFFFF;\n",
              "      }\n",
              "    </style>\n",
              "    <button class=\"colab-df-generate\" onclick=\"generateWithVariable('data')\"\n",
              "            title=\"Generate code using this dataframe.\"\n",
              "            style=\"display:none;\">\n",
              "\n",
              "  <svg xmlns=\"http://www.w3.org/2000/svg\" height=\"24px\"viewBox=\"0 0 24 24\"\n",
              "       width=\"24px\">\n",
              "    <path d=\"M7,19H8.4L18.45,9,17,7.55,7,17.6ZM5,21V16.75L18.45,3.32a2,2,0,0,1,2.83,0l1.4,1.43a1.91,1.91,0,0,1,.58,1.4,1.91,1.91,0,0,1-.58,1.4L9.25,21ZM18.45,9,17,7.55Zm-12,3A5.31,5.31,0,0,0,4.9,8.1,5.31,5.31,0,0,0,1,6.5,5.31,5.31,0,0,0,4.9,4.9,5.31,5.31,0,0,0,6.5,1,5.31,5.31,0,0,0,8.1,4.9,5.31,5.31,0,0,0,12,6.5,5.46,5.46,0,0,0,6.5,12Z\"/>\n",
              "  </svg>\n",
              "    </button>\n",
              "    <script>\n",
              "      (() => {\n",
              "      const buttonEl =\n",
              "        document.querySelector('#id_5b5bb26d-9585-46c2-83b9-f166657f9ebc button.colab-df-generate');\n",
              "      buttonEl.style.display =\n",
              "        google.colab.kernel.accessAllowed ? 'block' : 'none';\n",
              "\n",
              "      buttonEl.onclick = () => {\n",
              "        google.colab.notebook.generateWithVariable('data');\n",
              "      }\n",
              "      })();\n",
              "    </script>\n",
              "  </div>\n",
              "\n",
              "    </div>\n",
              "  </div>\n"
            ],
            "application/vnd.google.colaboratory.intrinsic+json": {
              "type": "dataframe",
              "variable_name": "data",
              "summary": "{\n  \"name\": \"data\",\n  \"rows\": 50000,\n  \"fields\": [\n    {\n      \"column\": \"Transaction_ID\",\n      \"properties\": {\n        \"dtype\": \"number\",\n        \"std\": 14433,\n        \"min\": 1,\n        \"max\": 50000,\n        \"num_unique_values\": 50000,\n        \"samples\": [\n          33554,\n          9428,\n          200\n        ],\n        \"semantic_type\": \"\",\n        \"description\": \"\"\n      }\n    },\n    {\n      \"column\": \"User_Name\",\n      \"properties\": {\n        \"dtype\": \"category\",\n        \"num_unique_values\": 100,\n        \"samples\": [\n          \"Olivia Anderson\",\n          \"Oliver Thompson\",\n          \"Elijah Rodriguez\"\n        ],\n        \"semantic_type\": \"\",\n        \"description\": \"\"\n      }\n    },\n    {\n      \"column\": \"Age\",\n      \"properties\": {\n        \"dtype\": \"number\",\n        \"std\": 15,\n        \"min\": 18,\n        \"max\": 70,\n        \"num_unique_values\": 53,\n        \"samples\": [\n          39,\n          64,\n          66\n        ],\n        \"semantic_type\": \"\",\n        \"description\": \"\"\n      }\n    },\n    {\n      \"column\": \"Country\",\n      \"properties\": {\n        \"dtype\": \"category\",\n        \"num_unique_values\": 10,\n        \"samples\": [\n          \"USA\",\n          \"India\",\n          \"Japan\"\n        ],\n        \"semantic_type\": \"\",\n        \"description\": \"\"\n      }\n    },\n    {\n      \"column\": \"Product_Category\",\n      \"properties\": {\n        \"dtype\": \"category\",\n        \"num_unique_values\": 8,\n        \"samples\": [\n          \"Beauty\",\n          \"Home & Kitchen\",\n          \"Clothing\"\n        ],\n        \"semantic_type\": \"\",\n        \"description\": \"\"\n      }\n    },\n    {\n      \"column\": \"Purchase_Amount\",\n      \"properties\": {\n        \"dtype\": \"number\",\n        \"std\": 286.56355761466017,\n        \"min\": 5.04,\n        \"max\": 999.98,\n        \"num_unique_values\": 39258,\n        \"samples\": [\n          484.19,\n          837.12,\n          37.49\n        ],\n        \"semantic_type\": \"\",\n        \"description\": \"\"\n      }\n    },\n    {\n      \"column\": \"Payment_Method\",\n      \"properties\": {\n        \"dtype\": \"category\",\n        \"num_unique_values\": 6,\n        \"samples\": [\n          \"Debit Card\",\n          \"PayPal\",\n          \"Cash on Delivery\"\n        ],\n        \"semantic_type\": \"\",\n        \"description\": \"\"\n      }\n    },\n    {\n      \"column\": \"Transaction_Date\",\n      \"properties\": {\n        \"dtype\": \"object\",\n        \"num_unique_values\": 731,\n        \"samples\": [\n          \"2025-01-25\",\n          \"2024-10-01\",\n          \"2024-04-05\"\n        ],\n        \"semantic_type\": \"\",\n        \"description\": \"\"\n      }\n    }\n  ]\n}"
            }
          },
          "metadata": {},
          "execution_count": 6
        }
      ],
      "source": [
        "data"
      ]
    },
    {
      "cell_type": "code",
      "execution_count": 7,
      "metadata": {
        "colab": {
          "base_uri": "https://localhost:8080/"
        },
        "id": "y9eUxgcOLXa2",
        "outputId": "9b26d83f-5aed-410e-b3a0-5b9940e78239"
      },
      "outputs": [
        {
          "output_type": "execute_result",
          "data": {
            "text/plain": [
              "50000"
            ]
          },
          "metadata": {},
          "execution_count": 7
        }
      ],
      "source": [
        "len(data)"
      ]
    },
    {
      "cell_type": "code",
      "execution_count": 8,
      "metadata": {
        "colab": {
          "base_uri": "https://localhost:8080/",
          "height": 595
        },
        "id": "8Ejm9DjeLcpV",
        "outputId": "9e536dcd-650f-403c-98e2-2e7296db6539"
      },
      "outputs": [
        {
          "output_type": "stream",
          "name": "stdout",
          "text": [
            "<class 'pandas.core.frame.DataFrame'>\n",
            "RangeIndex: 50000 entries, 0 to 49999\n",
            "Data columns (total 8 columns):\n",
            " #   Column            Non-Null Count  Dtype  \n",
            "---  ------            --------------  -----  \n",
            " 0   Transaction_ID    50000 non-null  int64  \n",
            " 1   User_Name         50000 non-null  object \n",
            " 2   Age               50000 non-null  int64  \n",
            " 3   Country           50000 non-null  object \n",
            " 4   Product_Category  50000 non-null  object \n",
            " 5   Purchase_Amount   50000 non-null  float64\n",
            " 6   Payment_Method    50000 non-null  object \n",
            " 7   Transaction_Date  50000 non-null  object \n",
            "dtypes: float64(1), int64(2), object(5)\n",
            "memory usage: 3.1+ MB\n"
          ]
        },
        {
          "output_type": "execute_result",
          "data": {
            "text/plain": [
              "Transaction_ID        int64\n",
              "User_Name            object\n",
              "Age                   int64\n",
              "Country              object\n",
              "Product_Category     object\n",
              "Purchase_Amount     float64\n",
              "Payment_Method       object\n",
              "Transaction_Date     object\n",
              "dtype: object"
            ],
            "text/html": [
              "<div>\n",
              "<style scoped>\n",
              "    .dataframe tbody tr th:only-of-type {\n",
              "        vertical-align: middle;\n",
              "    }\n",
              "\n",
              "    .dataframe tbody tr th {\n",
              "        vertical-align: top;\n",
              "    }\n",
              "\n",
              "    .dataframe thead th {\n",
              "        text-align: right;\n",
              "    }\n",
              "</style>\n",
              "<table border=\"1\" class=\"dataframe\">\n",
              "  <thead>\n",
              "    <tr style=\"text-align: right;\">\n",
              "      <th></th>\n",
              "      <th>0</th>\n",
              "    </tr>\n",
              "  </thead>\n",
              "  <tbody>\n",
              "    <tr>\n",
              "      <th>Transaction_ID</th>\n",
              "      <td>int64</td>\n",
              "    </tr>\n",
              "    <tr>\n",
              "      <th>User_Name</th>\n",
              "      <td>object</td>\n",
              "    </tr>\n",
              "    <tr>\n",
              "      <th>Age</th>\n",
              "      <td>int64</td>\n",
              "    </tr>\n",
              "    <tr>\n",
              "      <th>Country</th>\n",
              "      <td>object</td>\n",
              "    </tr>\n",
              "    <tr>\n",
              "      <th>Product_Category</th>\n",
              "      <td>object</td>\n",
              "    </tr>\n",
              "    <tr>\n",
              "      <th>Purchase_Amount</th>\n",
              "      <td>float64</td>\n",
              "    </tr>\n",
              "    <tr>\n",
              "      <th>Payment_Method</th>\n",
              "      <td>object</td>\n",
              "    </tr>\n",
              "    <tr>\n",
              "      <th>Transaction_Date</th>\n",
              "      <td>object</td>\n",
              "    </tr>\n",
              "  </tbody>\n",
              "</table>\n",
              "</div><br><label><b>dtype:</b> object</label>"
            ]
          },
          "metadata": {},
          "execution_count": 8
        }
      ],
      "source": [
        "data.info()\n",
        "data.dtypes\n"
      ]
    },
    {
      "cell_type": "markdown",
      "metadata": {
        "id": "Zg5QbIaoLxsl"
      },
      "source": [
        "## Menangani missing value dan duplikat\n",
        "mengidentifikasi kolom yang memiliki nilai null dan duplikat data. hal ini untuk melihat apakah data yang di gunakan sudah bersih atau belum"
      ]
    },
    {
      "cell_type": "code",
      "execution_count": 9,
      "metadata": {
        "colab": {
          "base_uri": "https://localhost:8080/",
          "height": 335
        },
        "id": "zhoQ89aBLpAQ",
        "outputId": "a0f12034-1398-449e-d12a-ab3a91e53e82"
      },
      "outputs": [
        {
          "output_type": "execute_result",
          "data": {
            "text/plain": [
              "Transaction_ID      0\n",
              "User_Name           0\n",
              "Age                 0\n",
              "Country             0\n",
              "Product_Category    0\n",
              "Purchase_Amount     0\n",
              "Payment_Method      0\n",
              "Transaction_Date    0\n",
              "dtype: int64"
            ],
            "text/html": [
              "<div>\n",
              "<style scoped>\n",
              "    .dataframe tbody tr th:only-of-type {\n",
              "        vertical-align: middle;\n",
              "    }\n",
              "\n",
              "    .dataframe tbody tr th {\n",
              "        vertical-align: top;\n",
              "    }\n",
              "\n",
              "    .dataframe thead th {\n",
              "        text-align: right;\n",
              "    }\n",
              "</style>\n",
              "<table border=\"1\" class=\"dataframe\">\n",
              "  <thead>\n",
              "    <tr style=\"text-align: right;\">\n",
              "      <th></th>\n",
              "      <th>0</th>\n",
              "    </tr>\n",
              "  </thead>\n",
              "  <tbody>\n",
              "    <tr>\n",
              "      <th>Transaction_ID</th>\n",
              "      <td>0</td>\n",
              "    </tr>\n",
              "    <tr>\n",
              "      <th>User_Name</th>\n",
              "      <td>0</td>\n",
              "    </tr>\n",
              "    <tr>\n",
              "      <th>Age</th>\n",
              "      <td>0</td>\n",
              "    </tr>\n",
              "    <tr>\n",
              "      <th>Country</th>\n",
              "      <td>0</td>\n",
              "    </tr>\n",
              "    <tr>\n",
              "      <th>Product_Category</th>\n",
              "      <td>0</td>\n",
              "    </tr>\n",
              "    <tr>\n",
              "      <th>Purchase_Amount</th>\n",
              "      <td>0</td>\n",
              "    </tr>\n",
              "    <tr>\n",
              "      <th>Payment_Method</th>\n",
              "      <td>0</td>\n",
              "    </tr>\n",
              "    <tr>\n",
              "      <th>Transaction_Date</th>\n",
              "      <td>0</td>\n",
              "    </tr>\n",
              "  </tbody>\n",
              "</table>\n",
              "</div><br><label><b>dtype:</b> int64</label>"
            ]
          },
          "metadata": {},
          "execution_count": 9
        }
      ],
      "source": [
        "data.isnull().sum()\n",
        "\n"
      ]
    },
    {
      "cell_type": "code",
      "source": [
        "data.duplicated().sum()"
      ],
      "metadata": {
        "colab": {
          "base_uri": "https://localhost:8080/"
        },
        "id": "GojAGkQcrV6m",
        "outputId": "3a26288e-5f98-400c-d3dc-d426f38edcd9"
      },
      "execution_count": 10,
      "outputs": [
        {
          "output_type": "execute_result",
          "data": {
            "text/plain": [
              "np.int64(0)"
            ]
          },
          "metadata": {},
          "execution_count": 10
        }
      ]
    },
    {
      "cell_type": "markdown",
      "source": [
        "## Visualisasi Distribusi Data\n",
        "memberikan gambaran umum/ visualisasi dari data yang tersedia"
      ],
      "metadata": {
        "id": "4uVEyU1lrQsM"
      }
    },
    {
      "cell_type": "code",
      "source": [
        "plt.figure(figsize=(10,6))\n",
        "sns.countplot(data['Product_Category'])\n",
        "plt.title('Distribusi Kategori Produk')\n",
        "plt.xticks(rotation=90)\n",
        "plt.show()"
      ],
      "metadata": {
        "colab": {
          "base_uri": "https://localhost:8080/",
          "height": 408
        },
        "id": "JAaBbIYgVuYe",
        "outputId": "97e9c427-b469-4a20-ee41-67f3b0257075"
      },
      "execution_count": 11,
      "outputs": [
        {
          "output_type": "display_data",
          "data": {
            "text/plain": [
              "<Figure size 1000x600 with 1 Axes>"
            ],
            "image/png": "[encoded data removed]"
          },
          "metadata": {}
        }
      ]
    },
    {
      "cell_type": "markdown",
      "source": [
        "berdasarkan grafik distribusi produk, produk cloting, toys, dan elektronik memiliki jumlah distribusi paling banyak dalam data ini."
      ],
      "metadata": {
        "id": "pxFgQAUgE3Bq"
      }
    },
    {
      "cell_type": "code",
      "source": [
        "# Ubah kolom ke format datetime\n",
        "data['Transaction_Date'] = pd.to_datetime(data['Transaction_Date'], errors='coerce')\n",
        "\n",
        "# Tambahkan kolom bulan dan tahun\n",
        "data['Month'] = data['Transaction_Date'].dt.to_period('M')\n",
        "\n",
        "# Tren pembelian bulanan\n",
        "monthly_trend = data.groupby('Month')['Purchase_Amount'].sum().reset_index()\n",
        "monthly_trend['Month'] = monthly_trend['Month'].astype(str)\n",
        "\n",
        "sns.lineplot(data=monthly_trend, x='Month', y='Purchase_Amount')\n",
        "plt.xticks(rotation=45)\n",
        "plt.title('Tren Pembelian Bulanan')\n",
        "plt.show()\n"
      ],
      "metadata": {
        "colab": {
          "base_uri": "https://localhost:8080/",
          "height": 508
        },
        "id": "-l9vtuc9zqFI",
        "outputId": "db1503b4-dbcc-44db-8c09-2454f6902ad6"
      },
      "execution_count": 12,
      "outputs": [
        {
          "output_type": "display_data",
          "data": {
            "text/plain": [
              "<Figure size 640x480 with 1 Axes>"
            ],
            "image/png": "[encoded data removed]"
          },
          "metadata": {}
        }
      ]
    },
    {
      "cell_type": "markdown",
      "source": [
        "grafik ini memberikan gambaran bagaimana tren pembelian produk tiap bualan."
      ],
      "metadata": {
        "id": "f5QL6JkGFUUF"
      }
    },
    {
      "cell_type": "code",
      "source": [
        "# Jumlah transaksi per negara\n",
        "plt.figure(figsize=(10,5))\n",
        "sns.countplot(y='Country', data=data, order=data['Country'].value_counts().index)\n",
        "plt.title('Jumlah Transaksi per Negara')\n",
        "plt.show()\n"
      ],
      "metadata": {
        "colab": {
          "base_uri": "https://localhost:8080/",
          "height": 358
        },
        "id": "fbqYpYTRzxnM",
        "outputId": "61691618-00c8-4d6e-f830-dea28b458b79"
      },
      "execution_count": 13,
      "outputs": [
        {
          "output_type": "display_data",
          "data": {
            "text/plain": [
              "<Figure size 1000x500 with 1 Axes>"
            ],
            "image/png": "[encoded data removed]"
          },
          "metadata": {}
        }
      ]
    },
    {
      "cell_type": "markdown",
      "source": [
        "plot distribusi transaksi pernegara menunjukan bahwa paling banyak transaksi terjadi di negara canada, kemudian mexico dan Germany"
      ],
      "metadata": {
        "id": "KaomL9v9Fhir"
      }
    },
    {
      "cell_type": "code",
      "source": [
        "# Pie chart atau countplot metode pembayaran\n",
        "sns.countplot(x='Payment_Method', data=data, order=data['Payment_Method'].value_counts().index)\n",
        "plt.title('Distribusi Metode Pembayaran')\n",
        "plt.xticks(rotation=45)\n",
        "plt.show()\n"
      ],
      "metadata": {
        "colab": {
          "base_uri": "https://localhost:8080/",
          "height": 551
        },
        "id": "pQiE32Ykz0uJ",
        "outputId": "2051159d-c94d-4823-85c7-272bf58345b8"
      },
      "execution_count": 14,
      "outputs": [
        {
          "output_type": "display_data",
          "data": {
            "text/plain": [
              "<Figure size 640x480 with 1 Axes>"
            ],
            "image/png": "[encoded data removed]"
          },
          "metadata": {}
        }
      ]
    },
    {
      "cell_type": "code",
      "source": [
        "# Barplot rata-rata pembelian per kategori dan metode pembayaran\n",
        "sns.barplot(x='Product_Category', y='Purchase_Amount', hue='Payment_Method', data=data)\n",
        "plt.xticks(rotation=90)\n",
        "plt.title('Rata-rata Pembelian berdasarkan Kategori dan Metode Pembayaran')\n",
        "plt.show()\n"
      ],
      "metadata": {
        "colab": {
          "base_uri": "https://localhost:8080/",
          "height": 570
        },
        "id": "PtdsLMxTz7bh",
        "outputId": "19369dde-6c9f-4e8e-9610-4b56a1daa58e"
      },
      "execution_count": 15,
      "outputs": [
        {
          "output_type": "display_data",
          "data": {
            "text/plain": [
              "<Figure size 640x480 with 1 Axes>"
            ],
            "image/png": "[encoded data removed]"
          },
          "metadata": {}
        }
      ]
    },
    {
      "cell_type": "markdown",
      "source": [
        "Plot tersebut memberikan gambaran distribusi pembelian berdasarkan kategori produk, banyaknya produk dan metode pembayaran yang di lakukan."
      ],
      "metadata": {
        "id": "1d9MB7ibF0Gu"
      }
    },
    {
      "cell_type": "markdown",
      "source": [
        "## Analisis Perilaku Pembelian"
      ],
      "metadata": {
        "id": "_rbR5-cbsF0z"
      }
    },
    {
      "cell_type": "code",
      "source": [
        "# Hitung jumlah pembelian per kategori produk\n",
        "category_counts = data['Product_Category'].value_counts()\n",
        "print(category_counts)\n"
      ],
      "metadata": {
        "colab": {
          "base_uri": "https://localhost:8080/"
        },
        "id": "z4XB4yhDs7Pi",
        "outputId": "c9ae8333-2ac1-4c20-e7bd-5deef7342148"
      },
      "execution_count": 16,
      "outputs": [
        {
          "output_type": "stream",
          "name": "stdout",
          "text": [
            "Product_Category\n",
            "Toys              6392\n",
            "Electronics       6320\n",
            "Sports            6312\n",
            "Books             6253\n",
            "Clothing          6224\n",
            "Grocery           6215\n",
            "Home & Kitchen    6209\n",
            "Beauty            6075\n",
            "Name: count, dtype: int64\n"
          ]
        }
      ]
    },
    {
      "cell_type": "markdown",
      "source": [
        "Kode tersebut menghitung jumlah pembelian untuk tiap kategori produk menggunakan `value_counts()`. Hasilnya menunjukkan bahwa kategori \"Toys\" paling sering dibeli, disusul oleh \"Electronics\" dan \"Sports\", sedangkan \"Beauty\" menjadi yang paling sedikit. Ini membantu memahami kategori produk yang paling diminati pelanggan.\n"
      ],
      "metadata": {
        "id": "IJSTUtAf05fn"
      }
    },
    {
      "cell_type": "code",
      "source": [
        "# Total pembelian per kategori\n",
        "category_sales = data.groupby('Product_Category')['Purchase_Amount'].sum().sort_values(ascending=False)\n",
        "print(category_sales)\n"
      ],
      "metadata": {
        "colab": {
          "base_uri": "https://localhost:8080/"
        },
        "id": "X3dQso36tG23",
        "outputId": "6f2fcb6b-7147-4e62-f2aa-ee5559673832"
      },
      "execution_count": 17,
      "outputs": [
        {
          "output_type": "stream",
          "name": "stdout",
          "text": [
            "Product_Category\n",
            "Sports            3195335.90\n",
            "Toys              3185652.36\n",
            "Books             3181897.30\n",
            "Clothing          3171225.96\n",
            "Electronics       3133965.04\n",
            "Grocery           3123579.52\n",
            "Home & Kitchen    3108945.78\n",
            "Beauty            3057387.79\n",
            "Name: Purchase_Amount, dtype: float64\n"
          ]
        }
      ]
    },
    {
      "cell_type": "markdown",
      "source": [
        "Kode tersebut menghitung total nilai pembelian (`Purchase_Amount`) untuk setiap kategori produk dengan menggunakan fungsi `groupby()` dan `sum()`, lalu mengurutkannya dari yang tertinggi. Hasilnya menunjukkan bahwa kategori \"Sports\" memiliki total nilai pembelian tertinggi, diikuti oleh \"Toys\" dan \"Books\", sementara \"Beauty\" berada di urutan terakhir. Ini membantu mengidentifikasi kategori yang menghasilkan pendapatan terbesar."
      ],
      "metadata": {
        "id": "fNeUImhzG4gh"
      }
    },
    {
      "cell_type": "code",
      "source": [
        "data['Transaction_Date'] = pd.to_datetime(data['Transaction_Date'], errors='coerce')\n",
        "data['Month'] = data['Transaction_Date'].dt.to_period('M')\n",
        "monthly_sales = data.groupby('Month')['Purchase_Amount'].sum()\n",
        "print(monthly_sales)\n"
      ],
      "metadata": {
        "colab": {
          "base_uri": "https://localhost:8080/"
        },
        "id": "9T8lIwz21PlC",
        "outputId": "a33e53cb-3631-475c-ad2b-67bde7c8685e"
      },
      "execution_count": 18,
      "outputs": [
        {
          "output_type": "stream",
          "name": "stdout",
          "text": [
            "Month\n",
            "2023-03     802390.44\n",
            "2023-04    1046921.48\n",
            "2023-05    1050553.40\n",
            "2023-06    1011635.06\n",
            "2023-07    1105402.88\n",
            "2023-08    1044738.24\n",
            "2023-09    1030080.62\n",
            "2023-10    1046800.13\n",
            "2023-11    1016654.63\n",
            "2023-12    1071642.15\n",
            "2024-01    1101023.49\n",
            "2024-02    1004235.75\n",
            "2024-03    1018957.55\n",
            "2024-04    1047109.76\n",
            "2024-05    1070447.76\n",
            "2024-06    1032452.78\n",
            "2024-07    1065266.58\n",
            "2024-08    1061115.60\n",
            "2024-09    1034725.55\n",
            "2024-10    1079380.33\n",
            "2024-11    1065021.09\n",
            "2024-12    1061061.79\n",
            "2025-01    1056467.57\n",
            "2025-02     960776.35\n",
            "2025-03     273128.67\n",
            "Freq: M, Name: Purchase_Amount, dtype: float64\n"
          ]
        }
      ]
    },
    {
      "cell_type": "markdown",
      "source": [
        "Kode tersebut mengonversi kolom `Transaction_Date` menjadi format tanggal, lalu membuat kolom `Month` untuk merepresentasikan bulan dan tahun dari setiap transaksi. Setelah itu, kode menghitung total pembelian (`Purchase_Amount`) per bulan menggunakan `groupby` dan `sum()`. Hasilnya menunjukkan tren bulanan total pembelian dari Maret 2023 hingga Maret 2025, yang bisa digunakan untuk analisis musiman atau tren penjualan dari waktu ke waktu.\n"
      ],
      "metadata": {
        "id": "YPJALWT8HKmg"
      }
    },
    {
      "cell_type": "code",
      "source": [
        "payment_stats = data.groupby('Payment_Method')['Purchase_Amount'].agg(['count', 'mean', 'sum'])\n",
        "print(payment_stats)\n"
      ],
      "metadata": {
        "colab": {
          "base_uri": "https://localhost:8080/"
        },
        "id": "aEFjvD-21WEA",
        "outputId": "06c36b3b-4103-4bfc-fac2-747702cf2c98"
      },
      "execution_count": 19,
      "outputs": [
        {
          "output_type": "stream",
          "name": "stdout",
          "text": [
            "                  count        mean         sum\n",
            "Payment_Method                                 \n",
            "Cash on Delivery   8434  507.027434  4276269.38\n",
            "Credit Card        8310  499.464158  4150547.15\n",
            "Debit Card         8355  506.855321  4234776.21\n",
            "Net Banking        8174  497.126426  4063511.41\n",
            "PayPal             8250  505.882406  4173529.85\n",
            "UPI                8477  502.460263  4259355.65\n"
          ]
        }
      ]
    },
    {
      "cell_type": "markdown",
      "source": [
        "Kode ini menghitung jumlah transaksi, rata-rata, dan total pembelian untuk tiap metode pembayaran. Hasilnya menunjukkan bahwa UPI dan Cash on Delivery paling sering digunakan, dengan total pembelian tertinggi."
      ],
      "metadata": {
        "id": "IROyMrY6Hu2e"
      }
    },
    {
      "cell_type": "code",
      "source": [
        "country_sales = data.groupby('Country')['Purchase_Amount'].sum().sort_values(ascending=False)\n",
        "print(country_sales)\n"
      ],
      "metadata": {
        "colab": {
          "base_uri": "https://localhost:8080/"
        },
        "id": "OsZO70qE1bX5",
        "outputId": "adb1f530-0676-4181-c45e-98bf14ea2b8e"
      },
      "execution_count": 20,
      "outputs": [
        {
          "output_type": "stream",
          "name": "stdout",
          "text": [
            "Country\n",
            "France       2545739.19\n",
            "Canada       2544335.12\n",
            "USA          2541220.22\n",
            "Mexico       2534475.67\n",
            "Australia    2514911.65\n",
            "Brazil       2507287.54\n",
            "India        2503542.71\n",
            "Germany      2502442.20\n",
            "Japan        2492312.20\n",
            "UK           2471723.15\n",
            "Name: Purchase_Amount, dtype: float64\n"
          ]
        }
      ]
    },
    {
      "cell_type": "markdown",
      "source": [
        "pada kode tersebut dapat dilihat negara mana yang menghasilkan pembelian tertinggi yaitunegara france"
      ],
      "metadata": {
        "id": "F78Y1gqVH1ZP"
      }
    },
    {
      "cell_type": "markdown",
      "source": [
        "## segmentasi pelanggan\n",
        "\n",
        "Kode ini melakukan segmentasi pelanggan berdasarkan usia, frekuensi, nilai pembelian, dan metode pembayaran. Pertama, pelanggan dikelompokkan berdasarkan usia untuk melihat total pembelian per kelompok. Selanjutnya, analisis RFM menghitung seberapa sering dan berapa banyak pelanggan berbelanja, serta seberapa baru pembelian mereka. Produk favorit pelanggan dihitung berdasarkan kategori yang sering dibeli, dan segmentasi metode pembayaran menunjukkan preferensi pembayaran yang digunakan pelanggan. Semua ini membantu memahami perilaku pelanggan untuk strategi pemasaran yang lebih tepat.\n"
      ],
      "metadata": {
        "id": "M9WlFNxftuRc"
      }
    },
    {
      "cell_type": "code",
      "source": [
        "# Segmentasi usia: bisa gunakan binning\n",
        "bins = [0, 25, 40, 60, 100]\n",
        "labels = ['<25', '25-40', '41-60', '60+']\n",
        "data['Age_Group'] = pd.cut(data['Age'], bins=bins, labels=labels)\n",
        "\n",
        "# Contoh: Segmentasi pelanggan berdasarkan kelompok usia dan total pembelian\n",
        "sns.barplot(x='Age_Group', y='Purchase_Amount', data=data, estimator=sum)\n",
        "plt.title('Total Pembelian berdasarkan Kelompok Usia')\n",
        "plt.show()\n"
      ],
      "metadata": {
        "colab": {
          "base_uri": "https://localhost:8080/",
          "height": 472
        },
        "id": "zT6Wq2MntyQp",
        "outputId": "35c3673e-98c3-466f-905b-753e5f5d05ee"
      },
      "execution_count": 21,
      "outputs": [
        {
          "output_type": "display_data",
          "data": {
            "text/plain": [
              "<Figure size 640x480 with 1 Axes>"
            ],
            "image/png": "[encoded data removed]"
          },
          "metadata": {}
        }
      ]
    },
    {
      "cell_type": "code",
      "source": [
        "# Recency: hitung selisih hari dari tanggal terakhir\n",
        "data['Transaction_Date'] = pd.to_datetime(data['Transaction_Date'], errors='coerce')\n",
        "snapshot_date = data['Transaction_Date'].max() + pd.Timedelta(days=1)\n",
        "\n",
        "rfm = data.groupby('User_Name').agg({\n",
        "    'Transaction_Date': lambda x: (snapshot_date - x.max()).days,\n",
        "    'Transaction_ID': 'count',\n",
        "    'Purchase_Amount': 'sum'\n",
        "})\n",
        "\n",
        "rfm.columns = ['Recency', 'Frequency', 'Monetary']\n",
        "print(rfm.head())\n"
      ],
      "metadata": {
        "colab": {
          "base_uri": "https://localhost:8080/"
        },
        "id": "xwPccSwa1ydu",
        "outputId": "79fc9143-6707-4874-c208-09d714c3c25a"
      },
      "execution_count": 22,
      "outputs": [
        {
          "output_type": "stream",
          "name": "stdout",
          "text": [
            "              Recency  Frequency   Monetary\n",
            "User_Name                                  \n",
            "Ava Allen           1        494  247865.13\n",
            "Ava Anderson        1        491  246801.09\n",
            "Ava Clark           2        517  273776.79\n",
            "Ava Hall            6        517  268756.73\n",
            "Ava Harris          4        520  266846.08\n"
          ]
        }
      ]
    },
    {
      "cell_type": "code",
      "source": [
        "# Produk favorit setiap pelanggan\n",
        "fav_products = data.groupby(['User_Name', 'Product_Category']).size().reset_index(name='Counts')\n",
        "top_products = fav_products.sort_values(['User_Name', 'Counts'], ascending=[True, False]).drop_duplicates('User_Name')\n",
        "print(top_products.head())\n"
      ],
      "metadata": {
        "colab": {
          "base_uri": "https://localhost:8080/"
        },
        "id": "LIqC6FGE13g2",
        "outputId": "4225da81-4eab-45ba-ee85-d08d97ab4ea5"
      },
      "execution_count": 23,
      "outputs": [
        {
          "output_type": "stream",
          "name": "stdout",
          "text": [
            "       User_Name Product_Category  Counts\n",
            "4      Ava Allen          Grocery      78\n",
            "8   Ava Anderson           Beauty      70\n",
            "18     Ava Clark         Clothing      72\n",
            "28      Ava Hall          Grocery      75\n",
            "33    Ava Harris            Books      77\n"
          ]
        }
      ]
    },
    {
      "cell_type": "code",
      "source": [
        "payment_segment = data.groupby(['User_Name', 'Payment_Method']).size().unstack(fill_value=0)\n",
        "print(payment_segment.head())\n"
      ],
      "metadata": {
        "colab": {
          "base_uri": "https://localhost:8080/"
        },
        "id": "7PMjlM6g187B",
        "outputId": "c81e8040-00cc-4f28-c29d-bc40e0778669"
      },
      "execution_count": 24,
      "outputs": [
        {
          "output_type": "stream",
          "name": "stdout",
          "text": [
            "Payment_Method  Cash on Delivery  Credit Card  Debit Card  Net Banking  \\\n",
            "User_Name                                                                \n",
            "Ava Allen                     79           78          95           86   \n",
            "Ava Anderson                  85           76          76           91   \n",
            "Ava Clark                    102           87          81           77   \n",
            "Ava Hall                      83           79          80           98   \n",
            "Ava Harris                    75           71          84           93   \n",
            "\n",
            "Payment_Method  PayPal  UPI  \n",
            "User_Name                    \n",
            "Ava Allen           83   73  \n",
            "Ava Anderson        91   72  \n",
            "Ava Clark           88   82  \n",
            "Ava Hall            86   91  \n",
            "Ava Harris          96  101  \n"
          ]
        }
      ]
    },
    {
      "cell_type": "markdown",
      "metadata": {
        "id": "3q9ZjCUiST_W"
      },
      "source": [
        "# **prepossesing**\n",
        "Pada tahap ini, data preprocessing adalah langkah penting untuk memastikan kualitas data sebelum digunakan dalam model machine learning. Data mentah sering kali mengandung duplikasi, atau rentang nilai yang tidak konsisten, yang dapat memengaruhi kinerja model. Oleh karena itu, proses ini bertujuan untuk membersihkan dan mempersiapkan data agar analisis berjalan optimal.\n",
        "\n",
        "Berikut adalah tahapan-tahapan yang dilakukan\n",
        "- membersihkan data yang hilang dan menghapus duplikat data\n",
        "- menggunakan On Hot Enkoding untuk kolom kategori\n",
        "- melakukan normalisasi dan stansarisasi\n",
        "- menangani outlier data\n",
        "- membagi data untuk data training dan data testing"
      ]
    },
    {
      "cell_type": "code",
      "source": [
        "# Menghapus baris yang memiliki nilai hilang\n",
        "data.dropna(inplace=True)"
      ],
      "metadata": {
        "id": "H_6oGVVtuQjI"
      },
      "execution_count": 25,
      "outputs": []
    },
    {
      "cell_type": "code",
      "source": [
        "# Menghapus duplikasi berdasarkan kolom tertentu atau seluruh baris\n",
        "data.drop_duplicates(inplace=True)\n"
      ],
      "metadata": {
        "id": "pP3qLwbduXpQ"
      },
      "execution_count": 26,
      "outputs": []
    },
    {
      "cell_type": "code",
      "source": [
        "# One-Hot Encoding untuk kolom kategori\n",
        "data = pd.get_dummies(data, columns=['Product_Category', 'Country', 'Payment_Method'])\n"
      ],
      "metadata": {
        "id": "RkG2koj_ukTK"
      },
      "execution_count": 27,
      "outputs": []
    },
    {
      "cell_type": "code",
      "source": [
        "from sklearn.preprocessing import MinMaxScaler\n",
        "\n",
        "scaler = MinMaxScaler()\n",
        "data['Purchase_Amount'] = scaler.fit_transform(data[['Purchase_Amount']])\n"
      ],
      "metadata": {
        "id": "kC6pZ2YFunCB"
      },
      "execution_count": 28,
      "outputs": []
    },
    {
      "cell_type": "code",
      "source": [
        "from sklearn.preprocessing import StandardScaler\n",
        "\n",
        "scaler = StandardScaler()\n",
        "data['Age'] = scaler.fit_transform(data[['Age']])\n"
      ],
      "metadata": {
        "id": "pU-yloRUuo6m"
      },
      "execution_count": 29,
      "outputs": []
    },
    {
      "cell_type": "code",
      "source": [
        "Q1 = data['Purchase_Amount'].quantile(0.25)\n",
        "Q3 = data['Purchase_Amount'].quantile(0.75)\n",
        "IQR = Q3 - Q1\n",
        "\n",
        "data = data[(data['Purchase_Amount'] >= (Q1 - 1.5 * IQR)) & (data['Purchase_Amount'] <= (Q3 + 1.5 * IQR))]\n"
      ],
      "metadata": {
        "id": "lko1fmRhuw7R"
      },
      "execution_count": 30,
      "outputs": []
    },
    {
      "cell_type": "markdown",
      "source": [
        "## **Modelling**\n"
      ],
      "metadata": {
        "id": "e64DwjkDneXj"
      }
    },
    {
      "cell_type": "markdown",
      "source": [
        "## Colaborative Filtering\n",
        "Model rekomendasi yang telah dibuat menggunakan pendekatan Collaborative Filtering, tepatnya User-Based Collaborative Filtering dengan algoritma K-Nearest Neighbors (KNN). Model ini bekerja dengan mencari pengguna yang memiliki karakteristik dan riwayat pembelian yang mirip, lalu merekomendasikan produk berdasarkan preferensi pengguna-pengguna serupa tersebut."
      ],
      "metadata": {
        "id": "i3MjIj3o2mq8"
      }
    },
    {
      "cell_type": "code",
      "source": [
        "# === Model Rekomendasi Berdasarkan Kategori Produk ===\n",
        "product_columns = [col for col in data.columns if 'Product_Category_' in col]\n",
        "country_columns = [col for col in data.columns if 'Country_' in col]\n",
        "\n",
        "features_produk = ['Age'] + country_columns + product_columns\n",
        "scaler_produk = StandardScaler()\n",
        "X = scaler_produk.fit_transform(data[features_produk])\n",
        "\n",
        "model_produk = NearestNeighbors(n_neighbors=6, algorithm='auto', metric='euclidean')\n",
        "model_produk.fit(X)\n",
        "\n",
        "def rekomendasi_produk(user_index):\n",
        "    distances, indices = model_produk.kneighbors([X[user_index]])\n",
        "    similar_users = data.iloc[indices[0][1:]]\n",
        "    recommended_products = similar_users[product_columns].sum().sort_values(ascending=False).head(5)\n",
        "    return recommended_products.index.tolist()\n",
        "\n",
        "def tampilkan_semua_rekomendasi(user_index):\n",
        "    print(\"===== Rekomendasi Berdasarkan Kategori Produk =====\")\n",
        "    rekomendasi = rekomendasi_produk(user_index)\n",
        "    for i, produk in enumerate(rekomendasi, 1):\n",
        "        print(f\"{i}. {produk}\")\n",
        "\n",
        "# Panggil\n",
        "tampilkan_semua_rekomendasi(100)\n"
      ],
      "metadata": {
        "colab": {
          "base_uri": "https://localhost:8080/"
        },
        "id": "hTzCKhXxRfuQ",
        "outputId": "d93b0272-f633-451a-a533-78d33781ef53"
      },
      "execution_count": 31,
      "outputs": [
        {
          "output_type": "stream",
          "name": "stdout",
          "text": [
            "===== Rekomendasi Berdasarkan Kategori Produk =====\n",
            "1. Product_Category_Sports\n",
            "2. Product_Category_Beauty\n",
            "3. Product_Category_Clothing\n",
            "4. Product_Category_Books\n",
            "5. Product_Category_Electronics\n"
          ]
        }
      ]
    },
    {
      "cell_type": "markdown",
      "source": [
        "## **Evaluasi**"
      ],
      "metadata": {
        "id": "NINBkzElwDL9"
      }
    },
    {
      "cell_type": "code",
      "source": [
        "from sklearn.metrics import precision_score, recall_score\n",
        "import math\n",
        "\n",
        "def evaluasi_rekomendasi_produk(user_index, rekomendasi_fungsi, top_k=5):\n",
        "    # Ambil produk yang direkomendasikan\n",
        "    recommended = rekomendasi_fungsi(user_index)[:top_k]\n",
        "\n",
        "    # Ambil data historis aktual user tersebut\n",
        "    user_actual_data = data.iloc[user_index][product_columns]\n",
        "    actual = user_actual_data[user_actual_data > 0].index.tolist()  # Produk yang benar-benar dibeli\n",
        "\n",
        "    # Konversi ke format biner untuk evaluasi\n",
        "    y_true = [1 if prod in actual else 0 for prod in recommended]\n",
        "    y_pred = [1] * len(recommended)  # Semua hasil direkomendasikan (diasumsikan 1)\n",
        "\n",
        "    precision = precision_score(y_true, y_pred)\n",
        "    recall = recall_score(y_true, y_pred)\n",
        "\n",
        "    # Evaluasi Hit Rate\n",
        "    hit_rate = 1 if any([prod in actual for prod in recommended]) else 0\n",
        "\n",
        "    # Evaluasi Mean Average Precision (MAP)\n",
        "    average_precision = 0\n",
        "    for i, prod in enumerate(recommended):\n",
        "        if prod in actual:\n",
        "            average_precision += 1 / (i + 1)\n",
        "    map_score = average_precision / top_k if average_precision > 0 else 0\n",
        "\n",
        "    # Evaluasi NDCG\n",
        "    dcg = 0\n",
        "    for i, prod in enumerate(recommended):\n",
        "        if prod in actual:\n",
        "            dcg += 1 / (math.log(i + 2, 2))  # +2 untuk menghindari log(0)\n",
        "    idcg = sum([1 / (math.log(i + 2, 2)) for i in range(top_k)])  # Ideal DCG\n",
        "    ndcg = dcg / idcg if idcg > 0 else 0\n",
        "\n",
        "    # Tampilkan hasil evaluasi\n",
        "    print(f\"Evaluasi untuk User {data.iloc[user_index]['User_Name']}:\")\n",
        "    print(f\"Precision@{top_k}: {precision:.2f}\")\n",
        "    print(f\"Recall@{top_k}: {recall:.2f}\")\n",
        "    print(f\"Hit Rate@{top_k}: {hit_rate}\")\n",
        "    print(f\"MAP@{top_k}: {map_score:.4f}\")\n",
        "    print(f\"NDCG@{top_k}: {ndcg:.4f}\")\n",
        "\n",
        "# Panggil evaluasi untuk User ke-100\n",
        "evaluasi_rekomendasi_produk(100, rekomendasi_produk)\n"
      ],
      "metadata": {
        "colab": {
          "base_uri": "https://localhost:8080/"
        },
        "id": "SlWMXGWwY5aS",
        "outputId": "1bf861ee-07cd-4996-9f37-a680d9788137"
      },
      "execution_count": 32,
      "outputs": [
        {
          "output_type": "stream",
          "name": "stdout",
          "text": [
            "Evaluasi untuk User Elijah Thompson:\n",
            "Precision@5: 0.20\n",
            "Recall@5: 1.00\n",
            "Hit Rate@5: 1\n",
            "MAP@5: 0.2000\n",
            "NDCG@5: 0.3392\n"
          ]
        }
      ]
    },
    {
      "cell_type": "markdown",
      "source": [
        "Hasil evaluasi sistem rekomendasi menunjukkan bahwa meskipun sistem berhasil menemukan produk yang relevan, masih ada ruang untuk perbaikan. Precision@5 yang rendah (0.20) menunjukkan bahwa hanya sedikit dari produk yang direkomendasikan yang relevan, meskipun Recall@5 sangat tinggi (1.00), yang berarti sistem berhasil menemukan semua produk relevan yang dibeli oleh pengguna dalam 5 produk teratas. Selain itu, NDCG@5 yang masih rendah (0.3392) menunjukkan bahwa meskipun ada produk relevan, posisi mereka dalam daftar rekomendasi tidak optimal. Meskipun sistem memberikan produk relevan dalam 5 teratas (Hit Rate@5 = 1), kualitas urutan dan presisi rekomendasi perlu diperbaiki untuk meningkatkan relevansi di posisi teratas."
      ],
      "metadata": {
        "id": "wmL05VGWaQH4"
      }
    },
    {
      "cell_type": "markdown",
      "source": [
        "Hasil evaluasi untuk User Elijah Thompson menunjukkan bahwa sistem rekomendasi memiliki kinerja yang cukup baik dalam hal cakupan, tetapi masih perlu ditingkatkan dari segi ketepatan posisi item relevan. Nilai **Precision\\@5 sebesar 0,20** mengindikasikan bahwa hanya 1 dari 5 item yang direkomendasikan benar-benar relevan bagi pengguna. Meskipun demikian, nilai **Recall\\@5 yang mencapai 1,00** menunjukkan bahwa semua item yang relevan berhasil dimasukkan dalam daftar 5 rekomendasi teratas, yang berarti tidak ada item relevan yang terlewatkan. Hal ini juga didukung oleh nilai **Hit Rate\\@5 sebesar 1**, yang menandakan bahwa setidaknya ada satu item relevan yang berhasil direkomendasikan.\n",
        "\n",
        "Namun, kualitas urutan rekomendasi masih dapat ditingkatkan. Nilai **MAP\\@5 sebesar 0,2000** menunjukkan bahwa rata-rata posisi item relevan dalam daftar rekomendasi belum cukup tinggi, dan item relevan kemungkinan besar tidak muncul di posisi awal. Hal ini juga tercermin dalam nilai **NDCG\\@5 sebesar 0,3392**, yang mengukur seberapa baik sistem menempatkan item relevan di posisi atas. Nilai ini tergolong rendah, sehingga dapat disimpulkan bahwa meskipun sistem mampu mencakup semua item relevan, ia belum optimal dalam menempatkannya pada posisi yang paling strategis. Secara keseluruhan, sistem sudah mampu mengenali preferensi user secara menyeluruh, tetapi perlu peningkatan dalam menyusun urutan rekomendasi agar lebih efektif.\n"
      ],
      "metadata": {
        "id": "E3eY16orax1n"
      }
    },
    {
      "cell_type": "code",
      "source": [
        "%%writefile Laporan.txt\n",
        "Laporan Proyek Machine Learning - [Titi Prihartati]\n",
        "\n",
        "Judul : Pembangunan Sistem Rekomendasi untuk Memprediksi Preferensi Pembelian Pelanggan menggunakan Colaborative Filtering pada Dataset Walmart Customer Purchase Behavior\n",
        "\n",
        "Project Overview\n",
        "Proyek ini bertujuan untuk membangun sistem rekomendasi pembelian pelanggan Walmart menggunakan pendekatan Collaborative Filtering, khususnya User-Based Collaborative Filtering.\n",
        "Sistem ini mengandalkan profil pelanggan (seperti usia dan negara), metode pembayaran, preferensi historis, dan kategori produk yang dibeli untuk menemukan pelanggan lain yang memiliki\n",
        "pola belanja serupa. Dengan mencocokkan karakteristik pelanggan terhadap pengguna yang mirip, sistem ini dapat memberikan rekomendasi produk yang dipersonalisasi. Sistem ini penting karena\n",
        "dalam e-commerce berskala besar seperti Walmart, kemampuan memberikan rekomendasi yang relevan dapat meningkatkan penjualan dan pengalaman pengguna. Selain itu, pendekatan ini tidak bergantung\n",
        "pada rating eksplisit, sehingga cocok untuk diterapkan pada data transaksi riil. Menurut Lops et al. (2011), sistem rekomendasi berbasis perilaku pengguna juga efektif dalam menghasilkan saran yang\n",
        "relevan ketika interaksi eksplisit terbatas.\n",
        "\n",
        "Referensi :\n",
        "Lops, P., De Gemmis, M., & Semeraro, G. (2011). Content-based recommender systems: State of the art and trends. Recommender systems handbook, 73-105.\n",
        "Wijaya, A. E., & Alfian, D. (2018). Sistem Rekomendasi Laptop Menggunakan Collaborative Filtering Dan Content-Based Filtering. Jurnal Computech & Bisnis, 12(1), 11-27.\n",
        "\n",
        "Business Understanding :\n",
        "Problem Statement :\n",
        "- Bagaimana membangun sistem rekomendasi produk menggunakan pendekatan Collaborative Filtering berdasarkan data transaksi pelanggan?\n",
        "- Sejauh mana sistem rekomendasi yang dibangun efektif dalam memberikan saran produk yang relevan dan bermanfaat bagi pelanggan?\n",
        "Goals:\n",
        "- Mengembangkan sistem rekomendasi produk berbasis Collaborative Filtering dengan memanfaatkan atribut pelanggan dan histori interaksi pembelian.\n",
        "- Mengevaluasi efektivitas sistem rekomendasi menggunakan metrik yang sesuai seperti Precision@N, Recall@N, dan NDCG.\n",
        "Solution Approach:\n",
        "- Membangun profil pelanggan berdasarkan atribut seperti usia, negara, metode pembayaran, dan histori pembelian kategori produk.\n",
        "- Menerapkan algoritma User-Based Collaborative Filtering untuk menemukan pelanggan dengan pola belanja serupa.\n",
        "- Menggunakan metrik evaluasi seperti Precision@N, Recall@N, dan NDCG untuk mengukur relevansi dan kualitas rekomendasi.\n",
        "- Menyediakan output berupa daftar Top-N produk yang direkomendasikan secara personal untuk setiap pelanggan.\n",
        "\n",
        "Data Understanding\n",
        "Dataset : Walmart Customer Purchase Behavior Dataset\n",
        "Sumber : https://www.kaggle.com/datasets/smayanj/e-commerce-transactions-dataset\n",
        "jumlah data : 50000 baris dan 8 kolom\n",
        "\n",
        "Informasi data\n",
        "Pada tahap ini, dilakukan eksplorasi awal terhadap dataset yang digunakan untuk membangun sistem rekomendasi.\n",
        "Dataset yang digunakan sebanyak 50.000 data yang berisi informasi transaksi pelanggan dari Walmart,\n",
        "dengan masing-masing baris merepresentasikan satu transaksi pembelian.\n",
        "Data set ini terdiri dari beberapa fitur utama sebagai berikut\n",
        "- Transaction_ID    : ID unik untuk setiap transaksi.\n",
        "- User_Name\t        : Nama pelanggan yang melakukan transaksi.\n",
        "- Age\t              : Usia pelanggan dalam satuan tahun.\n",
        "- Country\t          : Negara asal pelanggan.\n",
        "- Product_Category\t: Kategori produk yang dibeli, seperti Clothing, Electronics, Home, dll.\n",
        "- Purchase_Amount\t  : Jumlah uang yang dibelanjakan dalam satu transaksi (dalam satuan mata uang, misal USD).\n",
        "- Payment_Method\t  : Metode pembayaran yang digunakan, seperti Credit Card, PayPal, atau Debit.\n",
        "- Transaction_Date\t: Tanggal saat transaksi dilakukan.\n",
        "\n",
        "Dalam Data understanding dilakukan beberapa tahapan Exploratory Data Analysis (EDA):\n",
        "- memahami struktur data dengan melihat tipe data tiap kolom, meninjau jumlah entry dan keunikan tiap fitur.\n",
        "- melihat apakah terdapat data kosong atau duplikat data pada data set. Hal ini untuk melihat apakah data yang di gunakan sudah bersih atau belum.\n",
        "- melakukan Visualisasi Distribusi Data untuk melihat bagaimana persebaran data.\n",
        "- melakukan analisis awal terhadap perilaku pembelian dengan mengidentifkasi pola pembelian.\n",
        "- melakukan segmentasi pelanggan.\n",
        "\n",
        "Setelah dilakukan proses exploratory data analysis (EDA), dapat disimpulkan bahwa kondisi data sangat baik. Dataset ini tidak mengandung missing values.\n",
        "Selain itu, tidak ditemukan duplikat, artinya setiap transaksi benar-benar unik dan tidak ada pengulangan data yang dapat mengganggu analisis. Pemeriksaan\n",
        "terhadap outlier, khususnya pada kolom Purchase_Amount, juga menunjukkan bahwa nilai-nilai ekstrem yang muncul masih dalam batas wajar, kemungkinan berasal\n",
        "dari pembelian produk dengan harga tinggi, sehingga tetap dianggap valid.\n",
        "Berdasarkan visualisasi data, kategori produk **Clothing**, **Toys**, dan **Electronics** memiliki jumlah transaksi terbanyak. Dari segi negara, transaksi\n",
        "paling banyak terjadi di **Canada**, diikuti oleh **Mexico** dan **Germany**. Plot ini memberikan gambaran umum tentang distribusi pembelian berdasarkan\n",
        "kategori produk, jumlah transaksi, dan metode pembayaran yang digunakan.\n",
        "\n",
        "Data Preparation\n",
        "Tahap ini bertujuan intuk membersihkan dan mempersiapkan data agar dapat digunakan secara optimal. dalam tahapan ini meliputi:\n",
        "- penanganan missing value dan duplikat data. Dalam data terlihat data sudah bersih dan tidak terdapat duplikat data. hal ini untuk memastikan kualitas data sebelum digunakan dalam model machine learning.\n",
        "- melakukan enkoding data kategorikal dengan menerapkan one hot Encoding yaitu pada data 'Product_Category', 'Country', 'Payment_Method'\n",
        "- melakukan normalisasi fitur numerik data menggunakan min-max scaling.\n",
        "- melakukan standarisasi pada data Age.\n",
        "- mengkonversi tipe data sesuai dengan yang di butuhkan.\n",
        "- Melakukan Penanganan Outlier pada data Purchase_Amount\n",
        "Dengan data yang telah dipersiapkan secara sistematis, sistem rekomendasi dapat bekerja lebih akurat dan efisien\n",
        "\n",
        "Modelling\n",
        "Sistem rekomendasi yang telah dibuat menggunakan User-Based Collaborative Filtering dengan algoritma K-Nearest Neighbors (KNN).\n",
        "Pendekatan ini memilih pengguna yang mirip dengan pengguna yang ingin diberikan rekomendasi, berdasarkan karakteristik seperti usia,\n",
        "negara, dan kategori produk yang dibeli. Produk yang sering dibeli oleh pengguna-pengguna yang mirip ini kemudian direkomendasikan kepada pengguna tersebut.\n",
        "\n",
        "Cara Kerja:\n",
        "- Input Data: Data yang digunakan meliputi informasi pengguna (usia, negara) dan produk yang mereka beli (kategori produk).\n",
        "Proses:\n",
        "- One-Hot Encoding diterapkan pada kolom kategori produk dan negara.\n",
        "- Normalisasi dilakukan untuk fitur numerik (misalnya, usia).\n",
        "- KNN digunakan untuk menemukan pengguna yang mirip.\n",
        "Output: Rekomendasi produk diberikan berdasarkan frekuensi pembelian produk oleh pengguna yang mirip.\n",
        "Output dari sistem rekomendasi yang dihasilkan untuk user ke-100 (misalnya) adalah Top-5 produk yang sering dibeli oleh pengguna serupa:\n",
        "===== Rekomendasi Berdasarkan Kategori Produk =====\n",
        "1. Product_Category_Sports\n",
        "2. Product_Category_Beauty\n",
        "3. Product_Category_Clothing\n",
        "4. Product_Category_Books\n",
        "5. Product_Category_Electronics\n",
        "\n",
        "Evaluasi:\n",
        "Metrik evaluasi yang digunakan untuk mengukur kinerja sistem rekomendasi meliputi **Precision**, **Recall**, **Hit Rate**,\n",
        "**MAP (Mean Average Precision)**, dan **NDCG (Normalized Discounted Cumulative Gain)**. **Precision** mengukur proporsi produk relevan dalam rekomendasi,\n",
        "sementara **Recall** mengukur proporsi produk relevan yang berhasil direkomendasikan. **Hit Rate** mengevaluasi apakah ada produk relevan dalam rekomendasi,\n",
        "sementara **MAP** menghitung rata-rata presisi pada berbagai peringkat dalam rekomendasi. **NDCG** mengukur kualitas urutan rekomendasi dengan mempertimbangkan posisi produk relevan.\n",
        "Hasil evaluasi untuk User ke-100 menunjukkan bahwa **Precision\\@5** adalah 0.20, yang berarti hanya 20% produk relevan yang muncul dalam rekomendasi. **Recall\\@5** adalah 1.00, yang\n",
        "menunjukkan bahwa semua produk relevan berhasil direkomendasikan, dan **Hit Rate\\@5** adalah 1, yang mengindikasikan bahwa ada produk relevan dalam rekomendasi. **MAP\\@5** adalah 0.20,\n",
        "yang berarti rata-rata presisi pada rekomendasi adalah 0.20, sementara **NDCG\\@5** adalah 0.34, yang menunjukkan bahwa posisi produk relevan dalam rekomendasi masih belum optimal.\n",
        "Secara keseluruhan, meskipun sistem berhasil menemukan produk relevan (dengan Recall dan Hit Rate yang tinggi), **Precision** dan **NDCG** yang rendah menunjukkan bahwa masih banyak produk\n",
        "yang tidak relevan direkomendasikan dan produk relevan sering muncul di urutan bawah, yang dapat menjadi area untuk perbaikan.\n",
        "\n",
        "Proyek ini menggunakan metrik evaluasi seperti **Precision\\@5**, **Recall\\@5**, **Hit Rate**, **MAP**, dan **NDCG** untuk menilai kualitas rekomendasi. Metrik tersebut relevan karena mampu\n",
        "mengukur ketepatan dan relevansi rekomendasi produk, sesuai dengan kebutuhan bisnis e-commerce. Hasil evaluasi menunjukkan **recall dan hit rate tinggi**, artinya sistem berhasil menyarankan\n",
        "produk yang memang disukai pengguna. Namun, **precision dan NDCG** masih rendah, menunjukkan perlu peningkatan dalam ketepatan dan urutan produk. Secara umum, model sudah menjawab problem\n",
        "statement dan mendukung tujuan bisnis dengan memberikan rekomendasi yang cukup relevan, meskipun masih ada ruang untuk penyempurnaan.\n",
        "\n"
      ],
      "metadata": {
        "colab": {
          "base_uri": "https://localhost:8080/"
        },
        "id": "Vdf5YB7tIk2z",
        "outputId": "18d28498-4955-4020-dd5e-ec1b90c63be5"
      },
      "execution_count": 33,
      "outputs": [
        {
          "output_type": "stream",
          "name": "stdout",
          "text": [
            "Writing Laporan.txt\n"
          ]
        }
      ]
    }
  ],
  "metadata": {
    "accelerator": "GPU",
    "colab": {
      "gpuType": "T4",
      "provenance": []
    },
    "kernelspec": {
      "display_name": "Python 3",
      "name": "python3"
    },
    "language_info": {
      "name": "python"
    }
  },
  "nbformat": 4,
  "nbformat_minor": 0
}